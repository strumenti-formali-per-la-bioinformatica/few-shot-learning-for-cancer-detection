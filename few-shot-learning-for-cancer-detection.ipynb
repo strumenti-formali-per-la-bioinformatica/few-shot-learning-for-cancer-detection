{
 "cells": [
  {
   "cell_type": "code",
   "execution_count": 1,
   "metadata": {
    "tags": []
   },
   "outputs": [
    {
     "name": "stderr",
     "output_type": "stream",
     "text": [
      "2023-03-02 10:29:14.653818: I tensorflow/core/platform/cpu_feature_guard.cc:193] This TensorFlow binary is optimized with oneAPI Deep Neural Network Library (oneDNN) to use the following CPU instructions in performance-critical operations:  FMA\n",
      "To enable them in other operations, rebuild TensorFlow with the appropriate compiler flags.\n"
     ]
    }
   ],
   "source": [
    "import numpy as np\n",
    "import pandas as pd\n",
    "from sklearn import preprocessing\n",
    "from sklearn.decomposition import PCA\n",
    "from sklearn.model_selection import KFold\n",
    "import tensorflow as tf\n",
    "from tensorflow.keras.layers import Input, Dense, concatenate, Lambda, Flatten, BatchNormalization\n",
    "from tensorflow.keras.models import Model, Sequential\n",
    "import tqdm\n",
    "import random\n",
    "import itertools\n",
    "from sklearn.model_selection import train_test_split\n",
    "from sklearn.preprocessing import LabelBinarizer\n",
    "from keras.regularizers import l2\n",
    "from keras import backend as K\n",
    "import os\n",
   ]
  },
  {
   "cell_type": "code",
   "execution_count": 3,
   "metadata": {
    "collapsed": false,
    "jupyter": {
     "outputs_hidden": false
    }
   },
   "outputs": [],
   "source": [
    "dataset_df = pd.read_csv(\"dataset.csv\")"
   ]
  },
  {
   "cell_type": "code",
   "execution_count": 4,
   "metadata": {
    "tags": []
   },
   "outputs": [
    {
     "data": {
      "text/html": [
       "<div>\n",
       "<style scoped>\n",
       "    .dataframe tbody tr th:only-of-type {\n",
       "        vertical-align: middle;\n",
       "    }\n",
       "\n",
       "    .dataframe tbody tr th {\n",
       "        vertical-align: top;\n",
       "    }\n",
       "\n",
       "    .dataframe thead th {\n",
       "        text-align: right;\n",
       "    }\n",
       "</style>\n",
       "<table border=\"1\" class=\"dataframe\">\n",
       "  <thead>\n",
       "    <tr style=\"text-align: right;\">\n",
       "      <th></th>\n",
       "      <th>Sample ID</th>\n",
       "      <th>Cancer Type</th>\n",
       "      <th>Mutation Count</th>\n",
       "      <th>Sex</th>\n",
       "      <th>Sample Type</th>\n",
       "      <th>DNA Input</th>\n",
       "      <th>Matched Status</th>\n",
       "      <th>Oncotree Code</th>\n",
       "      <th>Overall Survival Status</th>\n",
       "      <th>Patient's Vital Status</th>\n",
       "      <th>...</th>\n",
       "      <th>VHL</th>\n",
       "      <th>VTCN1</th>\n",
       "      <th>WT1</th>\n",
       "      <th>XIAP</th>\n",
       "      <th>XPO1</th>\n",
       "      <th>XRCC2</th>\n",
       "      <th>YAP1</th>\n",
       "      <th>YES1</th>\n",
       "      <th>ZFHX3</th>\n",
       "      <th>ZRSR2</th>\n",
       "    </tr>\n",
       "  </thead>\n",
       "  <tbody>\n",
       "    <tr>\n",
       "      <th>0</th>\n",
       "      <td>P-0000036-T01-IM3</td>\n",
       "      <td>Non-Small Cell Lung Cancer</td>\n",
       "      <td>3</td>\n",
       "      <td>Female</td>\n",
       "      <td>Primary</td>\n",
       "      <td>50.0</td>\n",
       "      <td>Unmatched</td>\n",
       "      <td>LUAD</td>\n",
       "      <td>0:LIVING</td>\n",
       "      <td>ALIVE</td>\n",
       "      <td>...</td>\n",
       "      <td>0.0</td>\n",
       "      <td>0.0</td>\n",
       "      <td>0.0</td>\n",
       "      <td>0.0</td>\n",
       "      <td>0.0</td>\n",
       "      <td>0.0</td>\n",
       "      <td>0.0</td>\n",
       "      <td>0.0</td>\n",
       "      <td>0.0</td>\n",
       "      <td>0.0</td>\n",
       "    </tr>\n",
       "    <tr>\n",
       "      <th>1</th>\n",
       "      <td>P-0000047-T01-IM3</td>\n",
       "      <td>Mesothelioma</td>\n",
       "      <td>2</td>\n",
       "      <td>Male</td>\n",
       "      <td>Primary</td>\n",
       "      <td>250.0</td>\n",
       "      <td>Matched</td>\n",
       "      <td>PLEMESO</td>\n",
       "      <td>1:DECEASED</td>\n",
       "      <td>DECEASED</td>\n",
       "      <td>...</td>\n",
       "      <td>0.0</td>\n",
       "      <td>0.0</td>\n",
       "      <td>0.0</td>\n",
       "      <td>0.0</td>\n",
       "      <td>0.0</td>\n",
       "      <td>0.0</td>\n",
       "      <td>0.0</td>\n",
       "      <td>0.0</td>\n",
       "      <td>0.0</td>\n",
       "      <td>0.0</td>\n",
       "    </tr>\n",
       "    <tr>\n",
       "      <th>2</th>\n",
       "      <td>P-0000058-T01-IM3</td>\n",
       "      <td>Breast Cancer</td>\n",
       "      <td>1</td>\n",
       "      <td>Female</td>\n",
       "      <td>Metastasis</td>\n",
       "      <td>144.0</td>\n",
       "      <td>Matched</td>\n",
       "      <td>IDC</td>\n",
       "      <td>0:LIVING</td>\n",
       "      <td>ALIVE</td>\n",
       "      <td>...</td>\n",
       "      <td>0.0</td>\n",
       "      <td>0.0</td>\n",
       "      <td>2.0</td>\n",
       "      <td>0.0</td>\n",
       "      <td>0.0</td>\n",
       "      <td>0.0</td>\n",
       "      <td>0.0</td>\n",
       "      <td>0.0</td>\n",
       "      <td>0.0</td>\n",
       "      <td>0.0</td>\n",
       "    </tr>\n",
       "    <tr>\n",
       "      <th>3</th>\n",
       "      <td>P-0000068-T01-IM3</td>\n",
       "      <td>Bladder Cancer</td>\n",
       "      <td>4</td>\n",
       "      <td>Male</td>\n",
       "      <td>Primary</td>\n",
       "      <td>250.0</td>\n",
       "      <td>Matched</td>\n",
       "      <td>BLCA</td>\n",
       "      <td>1:DECEASED</td>\n",
       "      <td>DECEASED</td>\n",
       "      <td>...</td>\n",
       "      <td>0.0</td>\n",
       "      <td>0.0</td>\n",
       "      <td>0.0</td>\n",
       "      <td>0.0</td>\n",
       "      <td>0.0</td>\n",
       "      <td>0.0</td>\n",
       "      <td>0.0</td>\n",
       "      <td>0.0</td>\n",
       "      <td>0.0</td>\n",
       "      <td>0.0</td>\n",
       "    </tr>\n",
       "    <tr>\n",
       "      <th>4</th>\n",
       "      <td>P-0000187-T01-IM3</td>\n",
       "      <td>Breast Cancer</td>\n",
       "      <td>6</td>\n",
       "      <td>Female</td>\n",
       "      <td>Metastasis</td>\n",
       "      <td>250.0</td>\n",
       "      <td>Matched</td>\n",
       "      <td>BRCANOS</td>\n",
       "      <td>1:DECEASED</td>\n",
       "      <td>DECEASED</td>\n",
       "      <td>...</td>\n",
       "      <td>0.0</td>\n",
       "      <td>0.0</td>\n",
       "      <td>0.0</td>\n",
       "      <td>0.0</td>\n",
       "      <td>0.0</td>\n",
       "      <td>0.0</td>\n",
       "      <td>0.0</td>\n",
       "      <td>0.0</td>\n",
       "      <td>0.0</td>\n",
       "      <td>0.0</td>\n",
       "    </tr>\n",
       "  </tbody>\n",
       "</table>\n",
       "<p>5 rows × 433 columns</p>\n",
       "</div>"
      ],
      "text/plain": [
       "           Sample ID                 Cancer Type  Mutation Count     Sex  \\\n",
       "0  P-0000036-T01-IM3  Non-Small Cell Lung Cancer               3  Female   \n",
       "1  P-0000047-T01-IM3                Mesothelioma               2    Male   \n",
       "2  P-0000058-T01-IM3               Breast Cancer               1  Female   \n",
       "3  P-0000068-T01-IM3              Bladder Cancer               4    Male   \n",
       "4  P-0000187-T01-IM3               Breast Cancer               6  Female   \n",
       "\n",
       "  Sample Type  DNA Input Matched Status Oncotree Code Overall Survival Status  \\\n",
       "0     Primary       50.0      Unmatched          LUAD                0:LIVING   \n",
       "1     Primary      250.0        Matched       PLEMESO              1:DECEASED   \n",
       "2  Metastasis      144.0        Matched           IDC                0:LIVING   \n",
       "3     Primary      250.0        Matched          BLCA              1:DECEASED   \n",
       "4  Metastasis      250.0        Matched       BRCANOS              1:DECEASED   \n",
       "\n",
       "  Patient's Vital Status  ...  VHL VTCN1  WT1 XIAP XPO1 XRCC2 YAP1 YES1 ZFHX3  \\\n",
       "0                  ALIVE  ...  0.0   0.0  0.0  0.0  0.0   0.0  0.0  0.0   0.0   \n",
       "1               DECEASED  ...  0.0   0.0  0.0  0.0  0.0   0.0  0.0  0.0   0.0   \n",
       "2                  ALIVE  ...  0.0   0.0  2.0  0.0  0.0   0.0  0.0  0.0   0.0   \n",
       "3               DECEASED  ...  0.0   0.0  0.0  0.0  0.0   0.0  0.0  0.0   0.0   \n",
       "4               DECEASED  ...  0.0   0.0  0.0  0.0  0.0   0.0  0.0  0.0   0.0   \n",
       "\n",
       "  ZRSR2  \n",
       "0   0.0  \n",
       "1   0.0  \n",
       "2   0.0  \n",
       "3   0.0  \n",
       "4   0.0  \n",
       "\n",
       "[5 rows x 433 columns]"
      ]
     },
     "execution_count": 4,
     "metadata": {},
     "output_type": "execute_result"
    }
   ],
   "source": [
    "dataset_df.head()"
   ]
  },
  {
   "cell_type": "code",
   "execution_count": 57,
   "metadata": {},
   "outputs": [],
   "source": [
    "grouped = dataset_df.groupby('Cancer Type').filter(lambda x: len(x) >= 30)\n",
    "dataset_df = dataset_df[dataset_df['Cancer Type'].isin(grouped['Cancer Type'].unique())]"
   ]
  },
  {
   "cell_type": "code",
   "execution_count": 58,
   "metadata": {},
   "outputs": [],
   "source": [
    "category_counts = dataset_df.groupby('Cancer Type').size().reset_index(name='counts')"
   ]
  },
  {
   "cell_type": "code",
   "execution_count": 59,
   "metadata": {},
   "outputs": [
    {
     "data": {
      "text/html": [
       "<div>\n",
       "<style scoped>\n",
       "    .dataframe tbody tr th:only-of-type {\n",
       "        vertical-align: middle;\n",
       "    }\n",
       "\n",
       "    .dataframe tbody tr th {\n",
       "        vertical-align: top;\n",
       "    }\n",
       "\n",
       "    .dataframe thead th {\n",
       "        text-align: right;\n",
       "    }\n",
       "</style>\n",
       "<table border=\"1\" class=\"dataframe\">\n",
       "  <thead>\n",
       "    <tr style=\"text-align: right;\">\n",
       "      <th></th>\n",
       "      <th>Cancer Type</th>\n",
       "      <th>counts</th>\n",
       "    </tr>\n",
       "  </thead>\n",
       "  <tbody>\n",
       "    <tr>\n",
       "      <th>0</th>\n",
       "      <td>Bladder Cancer</td>\n",
       "      <td>42</td>\n",
       "    </tr>\n",
       "    <tr>\n",
       "      <th>1</th>\n",
       "      <td>Bone Cancer</td>\n",
       "      <td>54</td>\n",
       "    </tr>\n",
       "    <tr>\n",
       "      <th>2</th>\n",
       "      <td>Breast Cancer</td>\n",
       "      <td>242</td>\n",
       "    </tr>\n",
       "    <tr>\n",
       "      <th>3</th>\n",
       "      <td>Cancer of Unknown Primary</td>\n",
       "      <td>43</td>\n",
       "    </tr>\n",
       "    <tr>\n",
       "      <th>4</th>\n",
       "      <td>Colorectal Cancer</td>\n",
       "      <td>100</td>\n",
       "    </tr>\n",
       "    <tr>\n",
       "      <th>5</th>\n",
       "      <td>Endometrial Cancer</td>\n",
       "      <td>32</td>\n",
       "    </tr>\n",
       "    <tr>\n",
       "      <th>6</th>\n",
       "      <td>Esophagogastric Cancer</td>\n",
       "      <td>63</td>\n",
       "    </tr>\n",
       "    <tr>\n",
       "      <th>7</th>\n",
       "      <td>Glioma</td>\n",
       "      <td>158</td>\n",
       "    </tr>\n",
       "    <tr>\n",
       "      <th>8</th>\n",
       "      <td>Head and Neck Cancer</td>\n",
       "      <td>35</td>\n",
       "    </tr>\n",
       "    <tr>\n",
       "      <th>9</th>\n",
       "      <td>Hepatobiliary Cancer</td>\n",
       "      <td>70</td>\n",
       "    </tr>\n",
       "    <tr>\n",
       "      <th>10</th>\n",
       "      <td>Melanoma</td>\n",
       "      <td>66</td>\n",
       "    </tr>\n",
       "    <tr>\n",
       "      <th>11</th>\n",
       "      <td>Non-Small Cell Lung Cancer</td>\n",
       "      <td>313</td>\n",
       "    </tr>\n",
       "    <tr>\n",
       "      <th>12</th>\n",
       "      <td>Ovarian Cancer</td>\n",
       "      <td>40</td>\n",
       "    </tr>\n",
       "    <tr>\n",
       "      <th>13</th>\n",
       "      <td>Pancreatic Cancer</td>\n",
       "      <td>56</td>\n",
       "    </tr>\n",
       "    <tr>\n",
       "      <th>14</th>\n",
       "      <td>Prostate Cancer</td>\n",
       "      <td>336</td>\n",
       "    </tr>\n",
       "    <tr>\n",
       "      <th>15</th>\n",
       "      <td>Soft Tissue Sarcoma</td>\n",
       "      <td>104</td>\n",
       "    </tr>\n",
       "  </tbody>\n",
       "</table>\n",
       "</div>"
      ],
      "text/plain": [
       "                   Cancer Type  counts\n",
       "0               Bladder Cancer      42\n",
       "1                  Bone Cancer      54\n",
       "2                Breast Cancer     242\n",
       "3    Cancer of Unknown Primary      43\n",
       "4            Colorectal Cancer     100\n",
       "5           Endometrial Cancer      32\n",
       "6       Esophagogastric Cancer      63\n",
       "7                       Glioma     158\n",
       "8         Head and Neck Cancer      35\n",
       "9         Hepatobiliary Cancer      70\n",
       "10                    Melanoma      66\n",
       "11  Non-Small Cell Lung Cancer     313\n",
       "12              Ovarian Cancer      40\n",
       "13           Pancreatic Cancer      56\n",
       "14             Prostate Cancer     336\n",
       "15         Soft Tissue Sarcoma     104"
      ]
     },
     "execution_count": 59,
     "metadata": {},
     "output_type": "execute_result"
    }
   ],
   "source": [
    "category_counts"
   ]
  },
  {
   "cell_type": "code",
   "execution_count": 60,
   "metadata": {
    "tags": []
   },
   "outputs": [],
   "source": [
    "constant_columns = [col for col in dataset_df.columns if dataset_df[col].nunique() == 1]\n",
    "dataset_df = dataset_df.drop(columns=constant_columns)"
   ]
  },
  {
   "cell_type": "code",
   "execution_count": 61,
   "metadata": {
    "tags": []
   },
   "outputs": [],
   "source": [
    "dataset_df= dataset_df.dropna()\n",
    "dataset_df = dataset_df.reset_index(drop=True)"
   ]
  },
  {
   "cell_type": "code",
   "execution_count": 63,
   "metadata": {
    "collapsed": false,
    "jupyter": {
     "outputs_hidden": false
    }
   },
   "outputs": [
    {
     "name": "stdout",
     "output_type": "stream",
     "text": [
      "16\n"
     ]
    }
   ],
   "source": [
    "classes = pd.unique(dataset_df[\"Cancer Type\"])\n",
    "n_classes = len(pd.unique(classes))\n",
    "del dataset_df[\"Sample ID\"]"
   ]
  },
  {
   "cell_type": "code",
   "execution_count": 64,
   "metadata": {},
   "outputs": [],
   "source": [
    "le = LabelBinarizer()"
   ]
  },
  {
   "cell_type": "code",
   "execution_count": 65,
   "metadata": {
    "tags": []
   },
   "outputs": [],
   "source": [
    "y_df = dataset_df[\"Cancer Type\"]\n",
    "y_df.head()\n",
    "del dataset_df[\"Cancer Type\"]"
   ]
  },
  {
   "cell_type": "code",
   "execution_count": 66,
   "metadata": {
    "tags": []
   },
   "outputs": [],
   "source": [
    "y = y_df.to_numpy()"
   ]
  },
  {
   "cell_type": "code",
   "execution_count": null,
   "metadata": {
    "collapsed": false,
    "jupyter": {
     "outputs_hidden": false
    }
   },
   "outputs": [],
   "source": [
    "object_cols = list(dataset_df.select_dtypes(include='object'))\n",
    "other_cols = list(dataset_df.select_dtypes(exclude='object'))\n",
    "ohe_encoded_data = pd.get_dummies(dataset_df, columns=object_cols,drop_first=False)\n",
    "encoded_data = pd.concat([ohe_encoded_data,dataset_df[other_cols]],axis=1)"
   ]
  },
  {
   "cell_type": "code",
   "execution_count": 68,
   "metadata": {
    "collapsed": false,
    "jupyter": {
     "outputs_hidden": false
    }
   },
   "outputs": [],
   "source": [
    "encoded_data.to_csv(\"encoded-dataset.csv\",index=False)"
   ]
  },
  {
   "cell_type": "code",
   "execution_count": null,
   "metadata": {
    "collapsed": false,
    "jupyter": {
     "outputs_hidden": false
    }
   },
   "outputs": [],
   "source": [
    "d = preprocessing.normalize(encoded_data)\n",
    "scaled_df = pd.DataFrame(d)"
   ]
  },
  {
   "cell_type": "code",
   "execution_count": 70,
   "metadata": {
    "collapsed": false,
    "jupyter": {
     "outputs_hidden": false
    }
   },
   "outputs": [],
   "source": [
    "pca = PCA()\n",
    "df_merged_pca = pca.fit_transform(scaled_df)"
   ]
  },
  {
   "cell_type": "code",
   "execution_count": 71,
   "metadata": {
    "tags": []
   },
   "outputs": [
    {
     "data": {
      "text/plain": [
       "(1754, 2138)"
      ]
     },
     "execution_count": 71,
     "metadata": {},
     "output_type": "execute_result"
    }
   ],
   "source": [
    "np.array(scaled_df).shape"
   ]
  },
  {
   "cell_type": "code",
   "execution_count": 72,
   "metadata": {},
   "outputs": [],
   "source": [
    "from sklearn.feature_selection import f_classif\n",
    "scores =  (df_merged_pca, y_df.to_numpy())"
   ]
  },
  {
   "cell_type": "code",
   "execution_count": 73,
   "metadata": {},
   "outputs": [],
   "source": [
    "from itertools import permutations"
   ]
  },
  {
   "cell_type": "code",
   "execution_count": 74,
   "metadata": {
    "tags": []
   },
   "outputs": [],
   "source": [
    "x_train,x_test,y_train,y_test = train_test_split(np.array(df_merged_pca),y)"
   ]
  },
  {
   "cell_type": "code",
   "execution_count": 75,
   "metadata": {
    "tags": []
   },
   "outputs": [],
   "source": [
    "y_train_ohe =  le.fit_transform(y_train)"
   ]
  },
  {
   "cell_type": "code",
   "execution_count": 76,
   "metadata": {
    "tags": []
   },
   "outputs": [],
   "source": [
    "inputs= Input(x_train[0].shape)"
   ]
  },
  {
   "cell_type": "code",
   "execution_count": 77,
   "metadata": {
    "tags": []
   },
   "outputs": [],
   "source": [
    "input_shape= x_train[0].shape\n",
    "\n",
    "input1 = Input(input_shape)"
   ]
  },
  {
   "cell_type": "code",
   "execution_count": 78,
   "metadata": {
    "tags": []
   },
   "outputs": [],
   "source": [
    "def create_support_set(x_train,y_train,classes,n):\n",
    "    x_support = []\n",
    "    y_support = []\n",
    "    for c in classes:\n",
    "        indices = np.where(y_train == c)\n",
    "        for i in range(0,n):\n",
    "            x_support.append(x_train[indices[0][i]])\n",
    "            #np.delete(x_train[0],indices[0][i])\n",
    "            y_support.append(y_train[indices[0][i]])\n",
    "            #np.delete(y_train,indices[0][i])\n",
    "    return np.array(x_support),np.array(y_support)"
   ]
  },
  {
   "cell_type": "code",
   "execution_count": 79,
   "metadata": {
    "tags": []
   },
   "outputs": [],
   "source": [
    "x_support,y_support = create_support_set(x_train,y_train,classes,2)"
   ]
  },
  {
   "cell_type": "code",
   "execution_count": 133,
   "metadata": {
    "tags": []
   },
   "outputs": [],
   "source": [
    "input_layer = Dense(1754,activation ='relu',input_shape=x_train[0].shape)(input1)\n",
    "\n",
    "hidden_layers = Dense(750,activation='relu')(input_layer)\n",
    "hidden_layers = BatchNormalization()(hidden_layers)\n",
    "hidden_layers = Dense(750,activation='relu')(hidden_layers)\n",
    "hidden_layers = BatchNormalization()(hidden_layers)\n",
    "hidden_layers = Dense(750,activation='relu')(hidden_layers)\n",
    "hidden_layers = BatchNormalization()(hidden_layers)\n",
    "hidden_layers = Dense(750,activation='relu')(hidden_layers)\n",
    "hidden_layers = BatchNormalization()(hidden_layers)\n",
    "hidden_layers = Dense(750,activation='relu')(hidden_layers)\n",
    "hidden_layers = BatchNormalization()(hidden_layers)\n",
    "hidden_layers = Dense(750,activation='relu')(hidden_layers)\n",
    "hidden_layers = BatchNormalization()(hidden_layers)\n",
    "classifier= Dense(n_classes,activation ='softmax')(hidden_layers)\n",
    "\n",
    "model = Model(inputs=input_layer, outputs=classifier)\n",
    "model.compile(loss=\"categorical_crossentropy\", optimizer=\"adam\",metrics=[\"accuracy\",tf.keras.metrics.Precision(),tf.keras.metrics.Recall(),tf.keras.metrics.AUC()])"
   ]
  },
  {
   "cell_type": "code",
   "execution_count": 134,
   "metadata": {
    "scrolled": true,
    "tags": []
   },
   "outputs": [
    {
     "name": "stdout",
     "output_type": "stream",
     "text": [
      "Epoch 1/100\n",
      "33/33 [==============================] - 4s 15ms/step - loss: 3.0225 - accuracy: 0.2310 - precision_8: 0.4020 - recall_8: 0.1131 - auc_8: 0.6657 - val_loss: 2.7075 - val_accuracy: 0.1863 - val_precision_8: 0.0000e+00 - val_recall_8: 0.0000e+00 - val_auc_8: 0.5992\n",
      "Epoch 2/100\n",
      "33/33 [==============================] - 0s 7ms/step - loss: 1.9420 - accuracy: 0.4572 - precision_8: 0.7529 - recall_8: 0.3042 - auc_8: 0.8393 - val_loss: 2.7486 - val_accuracy: 0.1787 - val_precision_8: 0.0000e+00 - val_recall_8: 0.0000e+00 - val_auc_8: 0.5821\n",
      "Epoch 3/100\n",
      "33/33 [==============================] - 0s 6ms/step - loss: 1.5720 - accuracy: 0.5608 - precision_8: 0.7798 - recall_8: 0.4544 - auc_8: 0.8988 - val_loss: 3.2578 - val_accuracy: 0.0684 - val_precision_8: 0.0000e+00 - val_recall_8: 0.0000e+00 - val_auc_8: 0.3816\n",
      "Epoch 4/100\n",
      "33/33 [==============================] - 0s 6ms/step - loss: 1.2828 - accuracy: 0.6454 - precision_8: 0.8490 - recall_8: 0.5399 - auc_8: 0.9286 - val_loss: 3.6110 - val_accuracy: 0.0456 - val_precision_8: 0.0000e+00 - val_recall_8: 0.0000e+00 - val_auc_8: 0.3570\n",
      "Epoch 5/100\n",
      "33/33 [==============================] - 0s 7ms/step - loss: 0.8504 - accuracy: 0.7519 - precision_8: 0.9038 - recall_8: 0.6787 - auc_8: 0.9675 - val_loss: 4.0731 - val_accuracy: 0.0228 - val_precision_8: 0.0000e+00 - val_recall_8: 0.0000e+00 - val_auc_8: 0.3576\n",
      "Epoch 6/100\n",
      "33/33 [==============================] - 0s 6ms/step - loss: 0.7015 - accuracy: 0.7928 - precision_8: 0.9064 - recall_8: 0.7452 - auc_8: 0.9747 - val_loss: 4.4224 - val_accuracy: 0.0456 - val_precision_8: 0.0000e+00 - val_recall_8: 0.0000e+00 - val_auc_8: 0.3678\n",
      "Epoch 7/100\n",
      "33/33 [==============================] - 0s 6ms/step - loss: 0.5580 - accuracy: 0.8317 - precision_8: 0.9337 - recall_8: 0.7899 - auc_8: 0.9862 - val_loss: 4.2502 - val_accuracy: 0.0266 - val_precision_8: 0.0000e+00 - val_recall_8: 0.0000e+00 - val_auc_8: 0.4075\n",
      "Epoch 8/100\n",
      "33/33 [==============================] - 0s 7ms/step - loss: 0.5409 - accuracy: 0.8479 - precision_8: 0.9150 - recall_8: 0.8184 - auc_8: 0.9831 - val_loss: 3.7884 - val_accuracy: 0.0875 - val_precision_8: 0.0000e+00 - val_recall_8: 0.0000e+00 - val_auc_8: 0.5283\n",
      "Epoch 9/100\n",
      "33/33 [==============================] - 0s 7ms/step - loss: 0.4611 - accuracy: 0.8745 - precision_8: 0.9437 - recall_8: 0.8451 - auc_8: 0.9865 - val_loss: 4.0024 - val_accuracy: 0.0608 - val_precision_8: 0.0000e+00 - val_recall_8: 0.0000e+00 - val_auc_8: 0.4744\n",
      "Epoch 10/100\n",
      "33/33 [==============================] - 0s 7ms/step - loss: 0.4525 - accuracy: 0.8755 - precision_8: 0.9250 - recall_8: 0.8555 - auc_8: 0.9849 - val_loss: 4.1921 - val_accuracy: 0.0646 - val_precision_8: 1.0000 - val_recall_8: 0.0038 - val_auc_8: 0.4970\n",
      "Epoch 11/100\n",
      "33/33 [==============================] - 0s 7ms/step - loss: 0.3303 - accuracy: 0.9040 - precision_8: 0.9485 - recall_8: 0.8755 - auc_8: 0.9938 - val_loss: 3.9494 - val_accuracy: 0.0722 - val_precision_8: 0.1119 - val_recall_8: 0.0608 - val_auc_8: 0.6070\n",
      "Epoch 12/100\n",
      "33/33 [==============================] - 0s 7ms/step - loss: 0.2821 - accuracy: 0.9259 - precision_8: 0.9530 - recall_8: 0.9068 - auc_8: 0.9923 - val_loss: 3.3402 - val_accuracy: 0.1787 - val_precision_8: 0.5926 - val_recall_8: 0.0608 - val_auc_8: 0.6506\n",
      "Epoch 13/100\n",
      "33/33 [==============================] - 0s 7ms/step - loss: 0.2841 - accuracy: 0.9230 - precision_8: 0.9514 - recall_8: 0.9125 - auc_8: 0.9910 - val_loss: 3.8118 - val_accuracy: 0.2966 - val_precision_8: 0.6600 - val_recall_8: 0.1255 - val_auc_8: 0.5775\n",
      "Epoch 14/100\n",
      "33/33 [==============================] - 0s 7ms/step - loss: 0.3288 - accuracy: 0.9154 - precision_8: 0.9324 - recall_8: 0.9049 - auc_8: 0.9901 - val_loss: 3.2703 - val_accuracy: 0.1597 - val_precision_8: 0.1892 - val_recall_8: 0.0798 - val_auc_8: 0.6999\n",
      "Epoch 15/100\n",
      "33/33 [==============================] - 0s 6ms/step - loss: 0.3278 - accuracy: 0.9116 - precision_8: 0.9366 - recall_8: 0.8992 - auc_8: 0.9897 - val_loss: 1.9347 - val_accuracy: 0.3878 - val_precision_8: 0.5390 - val_recall_8: 0.2890 - val_auc_8: 0.8724\n",
      "Epoch 16/100\n",
      "33/33 [==============================] - 0s 7ms/step - loss: 0.2733 - accuracy: 0.9278 - precision_8: 0.9498 - recall_8: 0.9163 - auc_8: 0.9919 - val_loss: 1.5321 - val_accuracy: 0.5932 - val_precision_8: 0.7560 - val_recall_8: 0.4829 - val_auc_8: 0.9019\n",
      "Epoch 17/100\n",
      "33/33 [==============================] - 0s 9ms/step - loss: 0.1947 - accuracy: 0.9506 - precision_8: 0.9623 - recall_8: 0.9458 - auc_8: 0.9935 - val_loss: 1.3369 - val_accuracy: 0.6388 - val_precision_8: 0.7560 - val_recall_8: 0.6008 - val_auc_8: 0.9249\n",
      "Epoch 18/100\n",
      "33/33 [==============================] - 0s 7ms/step - loss: 0.2741 - accuracy: 0.9392 - precision_8: 0.9540 - recall_8: 0.9259 - auc_8: 0.9922 - val_loss: 1.5249 - val_accuracy: 0.6236 - val_precision_8: 0.6986 - val_recall_8: 0.5817 - val_auc_8: 0.9154\n",
      "Epoch 19/100\n",
      "33/33 [==============================] - 0s 6ms/step - loss: 0.1831 - accuracy: 0.9468 - precision_8: 0.9583 - recall_8: 0.9401 - auc_8: 0.9963 - val_loss: 1.2750 - val_accuracy: 0.6730 - val_precision_8: 0.7544 - val_recall_8: 0.6540 - val_auc_8: 0.9310\n",
      "Epoch 20/100\n",
      "33/33 [==============================] - 0s 7ms/step - loss: 0.2032 - accuracy: 0.9544 - precision_8: 0.9644 - recall_8: 0.9525 - auc_8: 0.9917 - val_loss: 1.8531 - val_accuracy: 0.6198 - val_precision_8: 0.6955 - val_recall_8: 0.5817 - val_auc_8: 0.8950\n",
      "Epoch 21/100\n",
      "33/33 [==============================] - 0s 8ms/step - loss: 0.2662 - accuracy: 0.9449 - precision_8: 0.9564 - recall_8: 0.9373 - auc_8: 0.9921 - val_loss: 2.5191 - val_accuracy: 0.4753 - val_precision_8: 0.5330 - val_recall_8: 0.4601 - val_auc_8: 0.8444\n",
      "Epoch 22/100\n",
      "33/33 [==============================] - 0s 9ms/step - loss: 0.1448 - accuracy: 0.9525 - precision_8: 0.9642 - recall_8: 0.9468 - auc_8: 0.9975 - val_loss: 1.7794 - val_accuracy: 0.6464 - val_precision_8: 0.6694 - val_recall_8: 0.6312 - val_auc_8: 0.9106\n",
      "Epoch 23/100\n",
      "33/33 [==============================] - 0s 8ms/step - loss: 0.1451 - accuracy: 0.9582 - precision_8: 0.9690 - recall_8: 0.9496 - auc_8: 0.9976 - val_loss: 0.8592 - val_accuracy: 0.8023 - val_precision_8: 0.8484 - val_recall_8: 0.7871 - val_auc_8: 0.9595\n",
      "Epoch 24/100\n",
      "33/33 [==============================] - 0s 8ms/step - loss: 0.1426 - accuracy: 0.9667 - precision_8: 0.9703 - recall_8: 0.9620 - auc_8: 0.9952 - val_loss: 1.3238 - val_accuracy: 0.7567 - val_precision_8: 0.7809 - val_recall_8: 0.7452 - val_auc_8: 0.9310\n",
      "Epoch 25/100\n",
      "33/33 [==============================] - 0s 7ms/step - loss: 0.1594 - accuracy: 0.9515 - precision_8: 0.9605 - recall_8: 0.9468 - auc_8: 0.9969 - val_loss: 1.7086 - val_accuracy: 0.6730 - val_precision_8: 0.7042 - val_recall_8: 0.6426 - val_auc_8: 0.9070\n",
      "Epoch 26/100\n",
      "33/33 [==============================] - 0s 8ms/step - loss: 0.1072 - accuracy: 0.9772 - precision_8: 0.9808 - recall_8: 0.9715 - auc_8: 0.9973 - val_loss: 1.5350 - val_accuracy: 0.7034 - val_precision_8: 0.7328 - val_recall_8: 0.6882 - val_auc_8: 0.9198\n",
      "Epoch 27/100\n",
      "33/33 [==============================] - 0s 9ms/step - loss: 0.0880 - accuracy: 0.9791 - precision_8: 0.9885 - recall_8: 0.9762 - auc_8: 0.9970 - val_loss: 1.6143 - val_accuracy: 0.7034 - val_precision_8: 0.7211 - val_recall_8: 0.6882 - val_auc_8: 0.9126\n",
      "Epoch 28/100\n",
      "33/33 [==============================] - 0s 8ms/step - loss: 0.1110 - accuracy: 0.9696 - precision_8: 0.9751 - recall_8: 0.9677 - auc_8: 0.9973 - val_loss: 1.4461 - val_accuracy: 0.7414 - val_precision_8: 0.7569 - val_recall_8: 0.7338 - val_auc_8: 0.9262\n",
      "Epoch 29/100\n",
      "33/33 [==============================] - 0s 7ms/step - loss: 0.1142 - accuracy: 0.9705 - precision_8: 0.9769 - recall_8: 0.9658 - auc_8: 0.9977 - val_loss: 1.0500 - val_accuracy: 0.7719 - val_precision_8: 0.7944 - val_recall_8: 0.7490 - val_auc_8: 0.9478\n",
      "Epoch 30/100\n",
      "33/33 [==============================] - 0s 7ms/step - loss: 0.0742 - accuracy: 0.9800 - precision_8: 0.9827 - recall_8: 0.9743 - auc_8: 0.9993 - val_loss: 1.4333 - val_accuracy: 0.7490 - val_precision_8: 0.7782 - val_recall_8: 0.7338 - val_auc_8: 0.9313\n",
      "Epoch 31/100\n",
      "33/33 [==============================] - 0s 8ms/step - loss: 0.1334 - accuracy: 0.9620 - precision_8: 0.9674 - recall_8: 0.9591 - auc_8: 0.9963 - val_loss: 1.7276 - val_accuracy: 0.6806 - val_precision_8: 0.7303 - val_recall_8: 0.6692 - val_auc_8: 0.9147\n",
      "Epoch 32/100\n",
      "33/33 [==============================] - 0s 7ms/step - loss: 0.1029 - accuracy: 0.9705 - precision_8: 0.9761 - recall_8: 0.9696 - auc_8: 0.9982 - val_loss: 0.9640 - val_accuracy: 0.7795 - val_precision_8: 0.8112 - val_recall_8: 0.7681 - val_auc_8: 0.9524\n",
      "Epoch 33/100\n",
      "33/33 [==============================] - 0s 8ms/step - loss: 0.0779 - accuracy: 0.9810 - precision_8: 0.9838 - recall_8: 0.9791 - auc_8: 0.9984 - val_loss: 1.0049 - val_accuracy: 0.8061 - val_precision_8: 0.8247 - val_recall_8: 0.7871 - val_auc_8: 0.9497\n",
      "Epoch 34/100\n",
      "33/33 [==============================] - 0s 7ms/step - loss: 0.0283 - accuracy: 0.9895 - precision_8: 0.9924 - recall_8: 0.9895 - auc_8: 1.0000 - val_loss: 0.8092 - val_accuracy: 0.8365 - val_precision_8: 0.8685 - val_recall_8: 0.8289 - val_auc_8: 0.9618\n",
      "Epoch 35/100\n",
      "33/33 [==============================] - 0s 7ms/step - loss: 0.0358 - accuracy: 0.9905 - precision_8: 0.9943 - recall_8: 0.9876 - auc_8: 1.0000 - val_loss: 1.0179 - val_accuracy: 0.8137 - val_precision_8: 0.8379 - val_recall_8: 0.8061 - val_auc_8: 0.9466\n",
      "Epoch 36/100\n",
      "33/33 [==============================] - 0s 7ms/step - loss: 0.0803 - accuracy: 0.9819 - precision_8: 0.9847 - recall_8: 0.9791 - auc_8: 0.9979 - val_loss: 1.1213 - val_accuracy: 0.7757 - val_precision_8: 0.8016 - val_recall_8: 0.7681 - val_auc_8: 0.9482\n",
      "Epoch 37/100\n",
      "33/33 [==============================] - 0s 7ms/step - loss: 0.0566 - accuracy: 0.9810 - precision_8: 0.9847 - recall_8: 0.9791 - auc_8: 0.9985 - val_loss: 2.2033 - val_accuracy: 0.6730 - val_precision_8: 0.6875 - val_recall_8: 0.6692 - val_auc_8: 0.8883\n",
      "Epoch 38/100\n",
      "33/33 [==============================] - 0s 6ms/step - loss: 0.0947 - accuracy: 0.9724 - precision_8: 0.9761 - recall_8: 0.9696 - auc_8: 0.9983 - val_loss: 1.5770 - val_accuracy: 0.7567 - val_precision_8: 0.7967 - val_recall_8: 0.7452 - val_auc_8: 0.9197\n",
      "Epoch 39/100\n",
      "33/33 [==============================] - 0s 6ms/step - loss: 0.0746 - accuracy: 0.9791 - precision_8: 0.9828 - recall_8: 0.9781 - auc_8: 0.9993 - val_loss: 1.0073 - val_accuracy: 0.7985 - val_precision_8: 0.8415 - val_recall_8: 0.7871 - val_auc_8: 0.9435\n",
      "Epoch 40/100\n",
      "33/33 [==============================] - 0s 6ms/step - loss: 0.0634 - accuracy: 0.9800 - precision_8: 0.9828 - recall_8: 0.9772 - auc_8: 0.9999 - val_loss: 1.0537 - val_accuracy: 0.7947 - val_precision_8: 0.8125 - val_recall_8: 0.7909 - val_auc_8: 0.9452\n",
      "Epoch 41/100\n",
      "33/33 [==============================] - 0s 7ms/step - loss: 0.0658 - accuracy: 0.9772 - precision_8: 0.9818 - recall_8: 0.9743 - auc_8: 0.9994 - val_loss: 1.0746 - val_accuracy: 0.8289 - val_precision_8: 0.8411 - val_recall_8: 0.8251 - val_auc_8: 0.9534\n",
      "Epoch 42/100\n",
      "33/33 [==============================] - 0s 9ms/step - loss: 0.0515 - accuracy: 0.9867 - precision_8: 0.9876 - recall_8: 0.9848 - auc_8: 0.9990 - val_loss: 0.8847 - val_accuracy: 0.8327 - val_precision_8: 0.8645 - val_recall_8: 0.8251 - val_auc_8: 0.9551\n",
      "Epoch 43/100\n",
      "33/33 [==============================] - 0s 8ms/step - loss: 0.0300 - accuracy: 0.9914 - precision_8: 0.9924 - recall_8: 0.9914 - auc_8: 0.9995 - val_loss: 0.9197 - val_accuracy: 0.8061 - val_precision_8: 0.8434 - val_recall_8: 0.7985 - val_auc_8: 0.9542\n",
      "Epoch 44/100\n",
      "33/33 [==============================] - 0s 7ms/step - loss: 0.0431 - accuracy: 0.9848 - precision_8: 0.9857 - recall_8: 0.9848 - auc_8: 0.9990 - val_loss: 1.7334 - val_accuracy: 0.7148 - val_precision_8: 0.7266 - val_recall_8: 0.7072 - val_auc_8: 0.9175\n",
      "Epoch 45/100\n",
      "33/33 [==============================] - 0s 6ms/step - loss: 0.0611 - accuracy: 0.9810 - precision_8: 0.9856 - recall_8: 0.9791 - auc_8: 0.9989 - val_loss: 0.7180 - val_accuracy: 0.8479 - val_precision_8: 0.8690 - val_recall_8: 0.8327 - val_auc_8: 0.9684\n",
      "Epoch 46/100\n",
      "33/33 [==============================] - 0s 7ms/step - loss: 0.0200 - accuracy: 0.9933 - precision_8: 0.9943 - recall_8: 0.9933 - auc_8: 0.9995 - val_loss: 0.7357 - val_accuracy: 0.8441 - val_precision_8: 0.8690 - val_recall_8: 0.8327 - val_auc_8: 0.9681\n",
      "Epoch 47/100\n",
      "33/33 [==============================] - 0s 7ms/step - loss: 0.0243 - accuracy: 0.9914 - precision_8: 0.9933 - recall_8: 0.9905 - auc_8: 1.0000 - val_loss: 0.7397 - val_accuracy: 0.8517 - val_precision_8: 0.8735 - val_recall_8: 0.8403 - val_auc_8: 0.9733\n",
      "Epoch 48/100\n",
      "33/33 [==============================] - 0s 8ms/step - loss: 0.0177 - accuracy: 0.9943 - precision_8: 0.9952 - recall_8: 0.9933 - auc_8: 1.0000 - val_loss: 0.5877 - val_accuracy: 0.8707 - val_precision_8: 0.8937 - val_recall_8: 0.8631 - val_auc_8: 0.9757\n",
      "Epoch 49/100\n",
      "33/33 [==============================] - 0s 7ms/step - loss: 0.0357 - accuracy: 0.9914 - precision_8: 0.9943 - recall_8: 0.9905 - auc_8: 0.9995 - val_loss: 0.6625 - val_accuracy: 0.8517 - val_precision_8: 0.8916 - val_recall_8: 0.8441 - val_auc_8: 0.9712\n",
      "Epoch 50/100\n",
      "33/33 [==============================] - 0s 7ms/step - loss: 0.0165 - accuracy: 0.9952 - precision_8: 0.9962 - recall_8: 0.9952 - auc_8: 1.0000 - val_loss: 0.4928 - val_accuracy: 0.8897 - val_precision_8: 0.9237 - val_recall_8: 0.8745 - val_auc_8: 0.9836\n",
      "Epoch 51/100\n",
      "33/33 [==============================] - 0s 6ms/step - loss: 0.0226 - accuracy: 0.9943 - precision_8: 0.9943 - recall_8: 0.9933 - auc_8: 0.9995 - val_loss: 1.3466 - val_accuracy: 0.7452 - val_precision_8: 0.7578 - val_recall_8: 0.7376 - val_auc_8: 0.9311\n",
      "Epoch 52/100\n",
      "33/33 [==============================] - 0s 8ms/step - loss: 0.0305 - accuracy: 0.9895 - precision_8: 0.9924 - recall_8: 0.9895 - auc_8: 0.9995 - val_loss: 0.8035 - val_accuracy: 0.8441 - val_precision_8: 0.8583 - val_recall_8: 0.8289 - val_auc_8: 0.9629\n",
      "Epoch 53/100\n",
      "33/33 [==============================] - 0s 7ms/step - loss: 0.0341 - accuracy: 0.9905 - precision_8: 0.9924 - recall_8: 0.9876 - auc_8: 0.9990 - val_loss: 0.8779 - val_accuracy: 0.8327 - val_precision_8: 0.8645 - val_recall_8: 0.8251 - val_auc_8: 0.9538\n",
      "Epoch 54/100\n",
      "33/33 [==============================] - 0s 7ms/step - loss: 0.0829 - accuracy: 0.9810 - precision_8: 0.9847 - recall_8: 0.9800 - auc_8: 0.9979 - val_loss: 0.9529 - val_accuracy: 0.8175 - val_precision_8: 0.8659 - val_recall_8: 0.8099 - val_auc_8: 0.9504\n",
      "Epoch 55/100\n",
      "33/33 [==============================] - 0s 6ms/step - loss: 0.0835 - accuracy: 0.9781 - precision_8: 0.9800 - recall_8: 0.9781 - auc_8: 0.9973 - val_loss: 1.2476 - val_accuracy: 0.7186 - val_precision_8: 0.7530 - val_recall_8: 0.7072 - val_auc_8: 0.9428\n",
      "Epoch 56/100\n",
      "33/33 [==============================] - 0s 6ms/step - loss: 0.0559 - accuracy: 0.9819 - precision_8: 0.9866 - recall_8: 0.9772 - auc_8: 0.9989 - val_loss: 0.9118 - val_accuracy: 0.7985 - val_precision_8: 0.8347 - val_recall_8: 0.7871 - val_auc_8: 0.9604\n",
      "Epoch 57/100\n",
      "33/33 [==============================] - 0s 7ms/step - loss: 0.0222 - accuracy: 0.9943 - precision_8: 0.9962 - recall_8: 0.9943 - auc_8: 0.9995 - val_loss: 0.7271 - val_accuracy: 0.8479 - val_precision_8: 0.8672 - val_recall_8: 0.8441 - val_auc_8: 0.9622\n",
      "Epoch 58/100\n",
      "33/33 [==============================] - 0s 7ms/step - loss: 0.0636 - accuracy: 0.9810 - precision_8: 0.9838 - recall_8: 0.9800 - auc_8: 0.9985 - val_loss: 0.7683 - val_accuracy: 0.8365 - val_precision_8: 0.8704 - val_recall_8: 0.8175 - val_auc_8: 0.9609\n",
      "Epoch 59/100\n",
      "33/33 [==============================] - 0s 7ms/step - loss: 0.0612 - accuracy: 0.9781 - precision_8: 0.9818 - recall_8: 0.9762 - auc_8: 0.9990 - val_loss: 0.9856 - val_accuracy: 0.8023 - val_precision_8: 0.8300 - val_recall_8: 0.7985 - val_auc_8: 0.9595\n",
      "Epoch 60/100\n",
      "33/33 [==============================] - 0s 8ms/step - loss: 0.0436 - accuracy: 0.9876 - precision_8: 0.9914 - recall_8: 0.9876 - auc_8: 0.9994 - val_loss: 1.5542 - val_accuracy: 0.7643 - val_precision_8: 0.7812 - val_recall_8: 0.7605 - val_auc_8: 0.9336\n",
      "Epoch 61/100\n",
      "33/33 [==============================] - 0s 6ms/step - loss: 0.1047 - accuracy: 0.9762 - precision_8: 0.9781 - recall_8: 0.9743 - auc_8: 0.9960 - val_loss: 1.1538 - val_accuracy: 0.7681 - val_precision_8: 0.7945 - val_recall_8: 0.7643 - val_auc_8: 0.9555\n",
      "Epoch 62/100\n",
      "33/33 [==============================] - 0s 6ms/step - loss: 0.0589 - accuracy: 0.9819 - precision_8: 0.9838 - recall_8: 0.9819 - auc_8: 0.9984 - val_loss: 1.0789 - val_accuracy: 0.7795 - val_precision_8: 0.7907 - val_recall_8: 0.7757 - val_auc_8: 0.9462\n",
      "Epoch 63/100\n",
      "33/33 [==============================] - 0s 7ms/step - loss: 0.0476 - accuracy: 0.9848 - precision_8: 0.9876 - recall_8: 0.9838 - auc_8: 0.9994 - val_loss: 1.8540 - val_accuracy: 0.6806 - val_precision_8: 0.6887 - val_recall_8: 0.6730 - val_auc_8: 0.9055\n",
      "Epoch 64/100\n",
      "33/33 [==============================] - 0s 7ms/step - loss: 0.0870 - accuracy: 0.9753 - precision_8: 0.9781 - recall_8: 0.9743 - auc_8: 0.9983 - val_loss: 2.3578 - val_accuracy: 0.6350 - val_precision_8: 0.6381 - val_recall_8: 0.6236 - val_auc_8: 0.8959\n",
      "Epoch 65/100\n",
      "33/33 [==============================] - 0s 7ms/step - loss: 0.0919 - accuracy: 0.9743 - precision_8: 0.9789 - recall_8: 0.9686 - auc_8: 0.9978 - val_loss: 1.1466 - val_accuracy: 0.7871 - val_precision_8: 0.8150 - val_recall_8: 0.7871 - val_auc_8: 0.9398\n",
      "Epoch 66/100\n",
      "33/33 [==============================] - 0s 7ms/step - loss: 0.0554 - accuracy: 0.9848 - precision_8: 0.9866 - recall_8: 0.9829 - auc_8: 0.9990 - val_loss: 0.9707 - val_accuracy: 0.8175 - val_precision_8: 0.8224 - val_recall_8: 0.8099 - val_auc_8: 0.9499\n",
      "Epoch 67/100\n",
      "33/33 [==============================] - 0s 8ms/step - loss: 0.0559 - accuracy: 0.9857 - precision_8: 0.9867 - recall_8: 0.9848 - auc_8: 0.9989 - val_loss: 1.0612 - val_accuracy: 0.8023 - val_precision_8: 0.8132 - val_recall_8: 0.7947 - val_auc_8: 0.9504\n",
      "Epoch 68/100\n",
      "33/33 [==============================] - 0s 7ms/step - loss: 0.0624 - accuracy: 0.9800 - precision_8: 0.9828 - recall_8: 0.9781 - auc_8: 0.9980 - val_loss: 0.8707 - val_accuracy: 0.8441 - val_precision_8: 0.8462 - val_recall_8: 0.8365 - val_auc_8: 0.9603\n",
      "Epoch 69/100\n",
      "33/33 [==============================] - 0s 7ms/step - loss: 0.0190 - accuracy: 0.9943 - precision_8: 0.9952 - recall_8: 0.9943 - auc_8: 1.0000 - val_loss: 0.8196 - val_accuracy: 0.8365 - val_precision_8: 0.8450 - val_recall_8: 0.8289 - val_auc_8: 0.9614\n",
      "Epoch 70/100\n",
      "33/33 [==============================] - 0s 7ms/step - loss: 0.0262 - accuracy: 0.9924 - precision_8: 0.9924 - recall_8: 0.9914 - auc_8: 0.9995 - val_loss: 0.5339 - val_accuracy: 0.8859 - val_precision_8: 0.9200 - val_recall_8: 0.8745 - val_auc_8: 0.9756\n",
      "Epoch 71/100\n",
      "33/33 [==============================] - 0s 7ms/step - loss: 0.0037 - accuracy: 1.0000 - precision_8: 1.0000 - recall_8: 1.0000 - auc_8: 1.0000 - val_loss: 0.5185 - val_accuracy: 0.8593 - val_precision_8: 0.8789 - val_recall_8: 0.8555 - val_auc_8: 0.9838\n",
      "Epoch 72/100\n",
      "33/33 [==============================] - 0s 7ms/step - loss: 0.0092 - accuracy: 0.9971 - precision_8: 0.9971 - recall_8: 0.9971 - auc_8: 1.0000 - val_loss: 0.4746 - val_accuracy: 0.8669 - val_precision_8: 0.8828 - val_recall_8: 0.8593 - val_auc_8: 0.9832\n",
      "Epoch 73/100\n",
      "33/33 [==============================] - 0s 6ms/step - loss: 0.0105 - accuracy: 0.9981 - precision_8: 0.9981 - recall_8: 0.9981 - auc_8: 0.9995 - val_loss: 0.4970 - val_accuracy: 0.8669 - val_precision_8: 0.9004 - val_recall_8: 0.8593 - val_auc_8: 0.9823\n",
      "Epoch 74/100\n",
      "33/33 [==============================] - 0s 6ms/step - loss: 0.0107 - accuracy: 0.9962 - precision_8: 0.9971 - recall_8: 0.9962 - auc_8: 1.0000 - val_loss: 0.5845 - val_accuracy: 0.8593 - val_precision_8: 0.8845 - val_recall_8: 0.8441 - val_auc_8: 0.9818\n",
      "Epoch 75/100\n",
      "33/33 [==============================] - 0s 7ms/step - loss: 0.0108 - accuracy: 0.9962 - precision_8: 0.9962 - recall_8: 0.9952 - auc_8: 1.0000 - val_loss: 0.8411 - val_accuracy: 0.8403 - val_precision_8: 0.8543 - val_recall_8: 0.8251 - val_auc_8: 0.9659\n",
      "Epoch 76/100\n",
      "33/33 [==============================] - 0s 7ms/step - loss: 0.0917 - accuracy: 0.9762 - precision_8: 0.9790 - recall_8: 0.9743 - auc_8: 0.9979 - val_loss: 1.7987 - val_accuracy: 0.6806 - val_precision_8: 0.7107 - val_recall_8: 0.6540 - val_auc_8: 0.9042\n",
      "Epoch 77/100\n",
      "33/33 [==============================] - 0s 6ms/step - loss: 0.0504 - accuracy: 0.9857 - precision_8: 0.9876 - recall_8: 0.9848 - auc_8: 0.9994 - val_loss: 0.9276 - val_accuracy: 0.8099 - val_precision_8: 0.8520 - val_recall_8: 0.8099 - val_auc_8: 0.9588\n",
      "Epoch 78/100\n",
      "33/33 [==============================] - 0s 7ms/step - loss: 0.0831 - accuracy: 0.9810 - precision_8: 0.9847 - recall_8: 0.9772 - auc_8: 0.9989 - val_loss: 1.0148 - val_accuracy: 0.8099 - val_precision_8: 0.8221 - val_recall_8: 0.7909 - val_auc_8: 0.9504\n",
      "Epoch 79/100\n",
      "33/33 [==============================] - 0s 8ms/step - loss: 0.0550 - accuracy: 0.9819 - precision_8: 0.9847 - recall_8: 0.9819 - auc_8: 0.9989 - val_loss: 1.7982 - val_accuracy: 0.7529 - val_precision_8: 0.7617 - val_recall_8: 0.7414 - val_auc_8: 0.9179\n",
      "Epoch 80/100\n",
      "33/33 [==============================] - 0s 7ms/step - loss: 0.0261 - accuracy: 0.9914 - precision_8: 0.9914 - recall_8: 0.9914 - auc_8: 1.0000 - val_loss: 0.8334 - val_accuracy: 0.8593 - val_precision_8: 0.8789 - val_recall_8: 0.8555 - val_auc_8: 0.9575\n",
      "Epoch 81/100\n",
      "33/33 [==============================] - 0s 8ms/step - loss: 0.0352 - accuracy: 0.9914 - precision_8: 0.9933 - recall_8: 0.9905 - auc_8: 0.9995 - val_loss: 0.6574 - val_accuracy: 0.8707 - val_precision_8: 0.8911 - val_recall_8: 0.8707 - val_auc_8: 0.9679\n",
      "Epoch 82/100\n",
      "33/33 [==============================] - 0s 8ms/step - loss: 0.0336 - accuracy: 0.9905 - precision_8: 0.9905 - recall_8: 0.9905 - auc_8: 0.9990 - val_loss: 0.8677 - val_accuracy: 0.8403 - val_precision_8: 0.8471 - val_recall_8: 0.8213 - val_auc_8: 0.9575\n",
      "Epoch 83/100\n",
      "33/33 [==============================] - 0s 7ms/step - loss: 0.1156 - accuracy: 0.9648 - precision_8: 0.9685 - recall_8: 0.9629 - auc_8: 0.9973 - val_loss: 1.8306 - val_accuracy: 0.7567 - val_precision_8: 0.7704 - val_recall_8: 0.7529 - val_auc_8: 0.9114\n",
      "Epoch 84/100\n",
      "33/33 [==============================] - 0s 8ms/step - loss: 0.0966 - accuracy: 0.9810 - precision_8: 0.9828 - recall_8: 0.9762 - auc_8: 0.9970 - val_loss: 1.8578 - val_accuracy: 0.6844 - val_precision_8: 0.7115 - val_recall_8: 0.6844 - val_auc_8: 0.9137\n",
      "Epoch 85/100\n",
      "33/33 [==============================] - 0s 9ms/step - loss: 0.0632 - accuracy: 0.9829 - precision_8: 0.9838 - recall_8: 0.9829 - auc_8: 0.9989 - val_loss: 1.1496 - val_accuracy: 0.8175 - val_precision_8: 0.8386 - val_recall_8: 0.8099 - val_auc_8: 0.9441\n",
      "Epoch 86/100\n",
      "33/33 [==============================] - 0s 7ms/step - loss: 0.1397 - accuracy: 0.9686 - precision_8: 0.9705 - recall_8: 0.9686 - auc_8: 0.9958 - val_loss: 1.6218 - val_accuracy: 0.7529 - val_precision_8: 0.7647 - val_recall_8: 0.7414 - val_auc_8: 0.9322\n",
      "Epoch 87/100\n",
      "33/33 [==============================] - 0s 7ms/step - loss: 0.0783 - accuracy: 0.9810 - precision_8: 0.9819 - recall_8: 0.9810 - auc_8: 0.9983 - val_loss: 2.1873 - val_accuracy: 0.7300 - val_precision_8: 0.7441 - val_recall_8: 0.7186 - val_auc_8: 0.9033\n",
      "Epoch 88/100\n",
      "33/33 [==============================] - 0s 7ms/step - loss: 0.0416 - accuracy: 0.9876 - precision_8: 0.9905 - recall_8: 0.9876 - auc_8: 0.9995 - val_loss: 1.5571 - val_accuracy: 0.7871 - val_precision_8: 0.8056 - val_recall_8: 0.7719 - val_auc_8: 0.9263\n",
      "Epoch 89/100\n",
      "33/33 [==============================] - 0s 6ms/step - loss: 0.0862 - accuracy: 0.9762 - precision_8: 0.9781 - recall_8: 0.9743 - auc_8: 0.9979 - val_loss: 1.4306 - val_accuracy: 0.7833 - val_precision_8: 0.7915 - val_recall_8: 0.7795 - val_auc_8: 0.9356\n",
      "Epoch 90/100\n",
      "33/33 [==============================] - 0s 6ms/step - loss: 0.0778 - accuracy: 0.9781 - precision_8: 0.9790 - recall_8: 0.9753 - auc_8: 0.9984 - val_loss: 1.1388 - val_accuracy: 0.8023 - val_precision_8: 0.8228 - val_recall_8: 0.7947 - val_auc_8: 0.9465\n",
      "Epoch 91/100\n",
      "33/33 [==============================] - 0s 7ms/step - loss: 0.0566 - accuracy: 0.9838 - precision_8: 0.9857 - recall_8: 0.9838 - auc_8: 0.9989 - val_loss: 1.1968 - val_accuracy: 0.8251 - val_precision_8: 0.8276 - val_recall_8: 0.8213 - val_auc_8: 0.9382\n",
      "Epoch 92/100\n",
      "33/33 [==============================] - 0s 7ms/step - loss: 0.0314 - accuracy: 0.9924 - precision_8: 0.9924 - recall_8: 0.9924 - auc_8: 0.9995 - val_loss: 1.0932 - val_accuracy: 0.8023 - val_precision_8: 0.8340 - val_recall_8: 0.8023 - val_auc_8: 0.9515\n",
      "Epoch 93/100\n",
      "33/33 [==============================] - 0s 8ms/step - loss: 0.0302 - accuracy: 0.9886 - precision_8: 0.9924 - recall_8: 0.9876 - auc_8: 0.9995 - val_loss: 0.8065 - val_accuracy: 0.8441 - val_precision_8: 0.8599 - val_recall_8: 0.8403 - val_auc_8: 0.9625\n",
      "Epoch 94/100\n",
      "33/33 [==============================] - 0s 7ms/step - loss: 0.0155 - accuracy: 0.9943 - precision_8: 0.9952 - recall_8: 0.9924 - auc_8: 1.0000 - val_loss: 0.9389 - val_accuracy: 0.8327 - val_precision_8: 0.8555 - val_recall_8: 0.8327 - val_auc_8: 0.9535\n",
      "Epoch 95/100\n",
      "33/33 [==============================] - 0s 6ms/step - loss: 0.0111 - accuracy: 0.9952 - precision_8: 0.9952 - recall_8: 0.9952 - auc_8: 1.0000 - val_loss: 0.9386 - val_accuracy: 0.8365 - val_precision_8: 0.8555 - val_recall_8: 0.8327 - val_auc_8: 0.9542\n",
      "Epoch 96/100\n",
      "33/33 [==============================] - 0s 6ms/step - loss: 0.0232 - accuracy: 0.9952 - precision_8: 0.9952 - recall_8: 0.9952 - auc_8: 0.9995 - val_loss: 0.7765 - val_accuracy: 0.8707 - val_precision_8: 0.8833 - val_recall_8: 0.8631 - val_auc_8: 0.9605\n",
      "Epoch 97/100\n",
      "33/33 [==============================] - 0s 7ms/step - loss: 0.0177 - accuracy: 0.9933 - precision_8: 0.9933 - recall_8: 0.9933 - auc_8: 1.0000 - val_loss: 0.5932 - val_accuracy: 0.8707 - val_precision_8: 0.8937 - val_recall_8: 0.8631 - val_auc_8: 0.9721\n",
      "Epoch 98/100\n",
      "33/33 [==============================] - 0s 8ms/step - loss: 0.0168 - accuracy: 0.9971 - precision_8: 0.9981 - recall_8: 0.9971 - auc_8: 0.9990 - val_loss: 0.8974 - val_accuracy: 0.8479 - val_precision_8: 0.8672 - val_recall_8: 0.8441 - val_auc_8: 0.9512\n",
      "Epoch 99/100\n",
      "33/33 [==============================] - 0s 8ms/step - loss: 0.0375 - accuracy: 0.9905 - precision_8: 0.9924 - recall_8: 0.9905 - auc_8: 0.9990 - val_loss: 0.8730 - val_accuracy: 0.8289 - val_precision_8: 0.8532 - val_recall_8: 0.8175 - val_auc_8: 0.9604\n",
      "Epoch 100/100\n",
      "33/33 [==============================] - 0s 6ms/step - loss: 0.0304 - accuracy: 0.9886 - precision_8: 0.9895 - recall_8: 0.9876 - auc_8: 0.9990 - val_loss: 0.6252 - val_accuracy: 0.8669 - val_precision_8: 0.8872 - val_recall_8: 0.8669 - val_auc_8: 0.9715\n"
     ]
    }
   ],
   "source": [
    "history=model.fit(x_train,y_train_ohe,batch_size=32,epochs=100,validation_split=0.2)"
   ]
  },
  {
   "cell_type": "code",
   "execution_count": 135,
   "metadata": {
    "tags": []
   },
   "outputs": [],
   "source": [
    "y_test_ohe = le.fit_transform(y_test)"
   ]
  },
  {
   "cell_type": "code",
   "execution_count": 136,
   "metadata": {},
   "outputs": [],
   "source": [
    "def eval_dnn(x_test,y_test,y_test_ohe,classes,model):\n",
    "    results = pd.DataFrame(columns=[\"Cancer\",\"Loss\",\"Accuracy\",\"Precision\",\"Recall\",\"AUC\",\"F1 Score\"])\n",
    "    for cancer in classes:\n",
    "        indices = np.where(y_test==cancer)\n",
    "        x_test_eval = x_test[indices]\n",
    "        y_test_eval = y_test_ohe[indices]\n",
    "        (loss, accuracy, precision, recall,auc) = model.evaluate(x_test_eval,y_test_eval)\n",
    "        f1_score = 2*((precision*recall)/(precision+recall+K.epsilon()))\n",
    "        new_row = {\"Cancer\": cancer, \"Loss\": loss, \"Accuracy\": accuracy, \"Precision\": precision, \"Recall\": recall, \"AUC\": auc, \"F1 Score\": f1_score}\n",
    "        results = pd.concat([results,pd.DataFrame.from_dict([new_row])])\n",
    "    return results"
   ]
  },
  {
   "cell_type": "code",
   "execution_count": 137,
   "metadata": {},
   "outputs": [
    {
     "name": "stdout",
     "output_type": "stream",
     "text": [
      "3/3 [==============================] - 0s 4ms/step - loss: 0.3028 - accuracy: 0.9740 - precision_8: 0.9740 - recall_8: 0.9740 - auc_8: 0.9864\n",
      "2/2 [==============================] - 0s 7ms/step - loss: 0.3217 - accuracy: 0.9492 - precision_8: 0.9492 - recall_8: 0.9492 - auc_8: 0.9905\n",
      "1/1 [==============================] - 0s 21ms/step - loss: 2.6333 - accuracy: 0.5556 - precision_8: 0.5556 - recall_8: 0.5556 - auc_8: 0.8074\n",
      "1/1 [==============================] - 0s 22ms/step - loss: 4.6747 - accuracy: 0.2000 - precision_8: 0.2500 - recall_8: 0.2000 - auc_8: 0.7147\n",
      "1/1 [==============================] - 0s 21ms/step - loss: 0.8450 - accuracy: 0.8750 - precision_8: 0.8750 - recall_8: 0.8750 - auc_8: 0.9600\n",
      "1/1 [==============================] - 0s 23ms/step - loss: 2.0188 - accuracy: 0.5517 - precision_8: 0.5926 - recall_8: 0.5517 - auc_8: 0.9038\n",
      "3/3 [==============================] - 0s 4ms/step - loss: 0.0465 - accuracy: 0.9888 - precision_8: 0.9888 - recall_8: 0.9888 - auc_8: 1.0000\n",
      "1/1 [==============================] - 0s 22ms/step - loss: 1.5712 - accuracy: 0.7143 - precision_8: 0.7143 - recall_8: 0.7143 - auc_8: 0.9177\n",
      "2/2 [==============================] - 0s 5ms/step - loss: 0.4358 - accuracy: 0.9216 - precision_8: 0.9400 - recall_8: 0.9216 - auc_8: 0.9686\n",
      "1/1 [==============================] - 0s 22ms/step - loss: 0.7116 - accuracy: 0.8571 - precision_8: 0.8571 - recall_8: 0.8571 - auc_8: 0.9597\n",
      "1/1 [==============================] - 0s 21ms/step - loss: 1.3623 - accuracy: 0.6667 - precision_8: 0.6667 - recall_8: 0.5714 - auc_8: 0.9287\n",
      "1/1 [==============================] - 0s 21ms/step - loss: 0.3900 - accuracy: 0.8462 - precision_8: 0.8800 - recall_8: 0.8462 - auc_8: 0.9965\n",
      "1/1 [==============================] - 0s 21ms/step - loss: 1.4482 - accuracy: 0.7500 - precision_8: 0.7143 - recall_8: 0.6250 - auc_8: 0.9214\n",
      "1/1 [==============================] - 0s 21ms/step - loss: 2.6205 - accuracy: 0.6250 - precision_8: 0.6250 - recall_8: 0.6250 - auc_8: 0.8484\n",
      "1/1 [==============================] - 0s 20ms/step - loss: 2.0939 - accuracy: 0.6364 - precision_8: 0.6364 - recall_8: 0.6364 - auc_8: 0.9196\n",
      "1/1 [==============================] - 0s 21ms/step - loss: 0.0242 - accuracy: 1.0000 - precision_8: 1.0000 - recall_8: 1.0000 - auc_8: 1.0000\n"
     ]
    }
   ],
   "source": [
    "dnn_results = eval_dnn(x_test,y_test,y_test_ohe,classes,model)"
   ]
  },
  {
   "cell_type": "code",
   "execution_count": 138,
   "metadata": {
    "tags": []
   },
   "outputs": [
    {
     "data": {
      "text/html": [
       "<div>\n",
       "<style scoped>\n",
       "    .dataframe tbody tr th:only-of-type {\n",
       "        vertical-align: middle;\n",
       "    }\n",
       "\n",
       "    .dataframe tbody tr th {\n",
       "        vertical-align: top;\n",
       "    }\n",
       "\n",
       "    .dataframe thead th {\n",
       "        text-align: right;\n",
       "    }\n",
       "</style>\n",
       "<table border=\"1\" class=\"dataframe\">\n",
       "  <thead>\n",
       "    <tr style=\"text-align: right;\">\n",
       "      <th></th>\n",
       "      <th>Cancer</th>\n",
       "      <th>Loss</th>\n",
       "      <th>Accuracy</th>\n",
       "      <th>Precision</th>\n",
       "      <th>Recall</th>\n",
       "      <th>AUC</th>\n",
       "      <th>F1 Score</th>\n",
       "    </tr>\n",
       "  </thead>\n",
       "  <tbody>\n",
       "    <tr>\n",
       "      <th>0</th>\n",
       "      <td>Non-Small Cell Lung Cancer</td>\n",
       "      <td>0.302827</td>\n",
       "      <td>0.974026</td>\n",
       "      <td>0.974026</td>\n",
       "      <td>0.974026</td>\n",
       "      <td>0.986372</td>\n",
       "      <td>0.974026</td>\n",
       "    </tr>\n",
       "    <tr>\n",
       "      <th>0</th>\n",
       "      <td>Breast Cancer</td>\n",
       "      <td>0.321704</td>\n",
       "      <td>0.949153</td>\n",
       "      <td>0.949153</td>\n",
       "      <td>0.949153</td>\n",
       "      <td>0.990539</td>\n",
       "      <td>0.949152</td>\n",
       "    </tr>\n",
       "    <tr>\n",
       "      <th>0</th>\n",
       "      <td>Bladder Cancer</td>\n",
       "      <td>2.633260</td>\n",
       "      <td>0.555556</td>\n",
       "      <td>0.555556</td>\n",
       "      <td>0.555556</td>\n",
       "      <td>0.807407</td>\n",
       "      <td>0.555556</td>\n",
       "    </tr>\n",
       "    <tr>\n",
       "      <th>0</th>\n",
       "      <td>Head and Neck Cancer</td>\n",
       "      <td>4.674746</td>\n",
       "      <td>0.200000</td>\n",
       "      <td>0.250000</td>\n",
       "      <td>0.200000</td>\n",
       "      <td>0.714667</td>\n",
       "      <td>0.222222</td>\n",
       "    </tr>\n",
       "    <tr>\n",
       "      <th>0</th>\n",
       "      <td>Bone Cancer</td>\n",
       "      <td>0.845036</td>\n",
       "      <td>0.875000</td>\n",
       "      <td>0.875000</td>\n",
       "      <td>0.875000</td>\n",
       "      <td>0.960026</td>\n",
       "      <td>0.875000</td>\n",
       "    </tr>\n",
       "    <tr>\n",
       "      <th>0</th>\n",
       "      <td>Soft Tissue Sarcoma</td>\n",
       "      <td>2.018757</td>\n",
       "      <td>0.551724</td>\n",
       "      <td>0.592593</td>\n",
       "      <td>0.551724</td>\n",
       "      <td>0.903805</td>\n",
       "      <td>0.571429</td>\n",
       "    </tr>\n",
       "    <tr>\n",
       "      <th>0</th>\n",
       "      <td>Prostate Cancer</td>\n",
       "      <td>0.046465</td>\n",
       "      <td>0.988764</td>\n",
       "      <td>0.988764</td>\n",
       "      <td>0.988764</td>\n",
       "      <td>0.999983</td>\n",
       "      <td>0.988764</td>\n",
       "    </tr>\n",
       "    <tr>\n",
       "      <th>0</th>\n",
       "      <td>Ovarian Cancer</td>\n",
       "      <td>1.571151</td>\n",
       "      <td>0.714286</td>\n",
       "      <td>0.714286</td>\n",
       "      <td>0.714286</td>\n",
       "      <td>0.917687</td>\n",
       "      <td>0.714286</td>\n",
       "    </tr>\n",
       "    <tr>\n",
       "      <th>0</th>\n",
       "      <td>Glioma</td>\n",
       "      <td>0.435821</td>\n",
       "      <td>0.921569</td>\n",
       "      <td>0.940000</td>\n",
       "      <td>0.921569</td>\n",
       "      <td>0.968602</td>\n",
       "      <td>0.930693</td>\n",
       "    </tr>\n",
       "    <tr>\n",
       "      <th>0</th>\n",
       "      <td>Esophagogastric Cancer</td>\n",
       "      <td>0.711552</td>\n",
       "      <td>0.857143</td>\n",
       "      <td>0.857143</td>\n",
       "      <td>0.857143</td>\n",
       "      <td>0.959694</td>\n",
       "      <td>0.857143</td>\n",
       "    </tr>\n",
       "    <tr>\n",
       "      <th>0</th>\n",
       "      <td>Hepatobiliary Cancer</td>\n",
       "      <td>1.362316</td>\n",
       "      <td>0.666667</td>\n",
       "      <td>0.666667</td>\n",
       "      <td>0.571429</td>\n",
       "      <td>0.928723</td>\n",
       "      <td>0.615385</td>\n",
       "    </tr>\n",
       "    <tr>\n",
       "      <th>0</th>\n",
       "      <td>Colorectal Cancer</td>\n",
       "      <td>0.389959</td>\n",
       "      <td>0.846154</td>\n",
       "      <td>0.880000</td>\n",
       "      <td>0.846154</td>\n",
       "      <td>0.996548</td>\n",
       "      <td>0.862745</td>\n",
       "    </tr>\n",
       "    <tr>\n",
       "      <th>0</th>\n",
       "      <td>Cancer of Unknown Primary</td>\n",
       "      <td>1.448158</td>\n",
       "      <td>0.750000</td>\n",
       "      <td>0.714286</td>\n",
       "      <td>0.625000</td>\n",
       "      <td>0.921354</td>\n",
       "      <td>0.666667</td>\n",
       "    </tr>\n",
       "    <tr>\n",
       "      <th>0</th>\n",
       "      <td>Endometrial Cancer</td>\n",
       "      <td>2.620538</td>\n",
       "      <td>0.625000</td>\n",
       "      <td>0.625000</td>\n",
       "      <td>0.625000</td>\n",
       "      <td>0.848437</td>\n",
       "      <td>0.625000</td>\n",
       "    </tr>\n",
       "    <tr>\n",
       "      <th>0</th>\n",
       "      <td>Melanoma</td>\n",
       "      <td>2.093936</td>\n",
       "      <td>0.636364</td>\n",
       "      <td>0.636364</td>\n",
       "      <td>0.636364</td>\n",
       "      <td>0.919559</td>\n",
       "      <td>0.636364</td>\n",
       "    </tr>\n",
       "    <tr>\n",
       "      <th>0</th>\n",
       "      <td>Pancreatic Cancer</td>\n",
       "      <td>0.024234</td>\n",
       "      <td>1.000000</td>\n",
       "      <td>1.000000</td>\n",
       "      <td>1.000000</td>\n",
       "      <td>1.000000</td>\n",
       "      <td>1.000000</td>\n",
       "    </tr>\n",
       "  </tbody>\n",
       "</table>\n",
       "</div>"
      ],
      "text/plain": [
       "                       Cancer      Loss  Accuracy  Precision    Recall  \\\n",
       "0  Non-Small Cell Lung Cancer  0.302827  0.974026   0.974026  0.974026   \n",
       "0               Breast Cancer  0.321704  0.949153   0.949153  0.949153   \n",
       "0              Bladder Cancer  2.633260  0.555556   0.555556  0.555556   \n",
       "0        Head and Neck Cancer  4.674746  0.200000   0.250000  0.200000   \n",
       "0                 Bone Cancer  0.845036  0.875000   0.875000  0.875000   \n",
       "0         Soft Tissue Sarcoma  2.018757  0.551724   0.592593  0.551724   \n",
       "0             Prostate Cancer  0.046465  0.988764   0.988764  0.988764   \n",
       "0              Ovarian Cancer  1.571151  0.714286   0.714286  0.714286   \n",
       "0                      Glioma  0.435821  0.921569   0.940000  0.921569   \n",
       "0      Esophagogastric Cancer  0.711552  0.857143   0.857143  0.857143   \n",
       "0        Hepatobiliary Cancer  1.362316  0.666667   0.666667  0.571429   \n",
       "0           Colorectal Cancer  0.389959  0.846154   0.880000  0.846154   \n",
       "0   Cancer of Unknown Primary  1.448158  0.750000   0.714286  0.625000   \n",
       "0          Endometrial Cancer  2.620538  0.625000   0.625000  0.625000   \n",
       "0                    Melanoma  2.093936  0.636364   0.636364  0.636364   \n",
       "0           Pancreatic Cancer  0.024234  1.000000   1.000000  1.000000   \n",
       "\n",
       "        AUC  F1 Score  \n",
       "0  0.986372  0.974026  \n",
       "0  0.990539  0.949152  \n",
       "0  0.807407  0.555556  \n",
       "0  0.714667  0.222222  \n",
       "0  0.960026  0.875000  \n",
       "0  0.903805  0.571429  \n",
       "0  0.999983  0.988764  \n",
       "0  0.917687  0.714286  \n",
       "0  0.968602  0.930693  \n",
       "0  0.959694  0.857143  \n",
       "0  0.928723  0.615385  \n",
       "0  0.996548  0.862745  \n",
       "0  0.921354  0.666667  \n",
       "0  0.848437  0.625000  \n",
       "0  0.919559  0.636364  \n",
       "0  1.000000  1.000000  "
      ]
     },
     "execution_count": 138,
     "metadata": {},
     "output_type": "execute_result"
    }
   ],
   "source": [
    "dnn_results"
   ]
  },
  {
   "cell_type": "code",
   "execution_count": 139,
   "metadata": {
    "tags": []
   },
   "outputs": [
    {
     "data": {
      "text/plain": [
       "<keras.layers.core.dense.Dense at 0x7ff1006f95d0>"
      ]
     },
     "execution_count": 139,
     "metadata": {},
     "output_type": "execute_result"
    }
   ],
   "source": [
    "model.layers.pop()"
   ]
  },
  {
   "cell_type": "code",
   "execution_count": 140,
   "metadata": {
    "tags": []
   },
   "outputs": [
    {
     "data": {
      "text/plain": [
       "[<keras.engine.input_layer.InputLayer at 0x7ff1006fb880>,\n",
       " <keras.layers.core.dense.Dense at 0x7ff101576f50>,\n",
       " <keras.layers.normalization.batch_normalization.BatchNormalization at 0x7ff101516ce0>,\n",
       " <keras.layers.core.dense.Dense at 0x7ff1015751e0>,\n",
       " <keras.layers.normalization.batch_normalization.BatchNormalization at 0x7ff101550d00>,\n",
       " <keras.layers.core.dense.Dense at 0x7ff101553130>,\n",
       " <keras.layers.normalization.batch_normalization.BatchNormalization at 0x7ff10159ab90>,\n",
       " <keras.layers.core.dense.Dense at 0x7ff10159a1a0>,\n",
       " <keras.layers.normalization.batch_normalization.BatchNormalization at 0x7ff1015500d0>,\n",
       " <keras.layers.core.dense.Dense at 0x7ff10078e3b0>,\n",
       " <keras.layers.normalization.batch_normalization.BatchNormalization at 0x7ff10078e020>,\n",
       " <keras.layers.core.dense.Dense at 0x7ff1006861a0>,\n",
       " <keras.layers.normalization.batch_normalization.BatchNormalization at 0x7ff100686110>,\n",
       " <keras.layers.core.dense.Dense at 0x7ff1006f95d0>]"
      ]
     },
     "execution_count": 140,
     "metadata": {},
     "output_type": "execute_result"
    }
   ],
   "source": [
    "model.layers"
   ]
  },
  {
   "cell_type": "code",
   "execution_count": 142,
   "metadata": {
    "tags": []
   },
   "outputs": [],
   "source": [
    "for layer in model.layers:\n",
    "    layer.trainable = False"
   ]
  },
  {
   "cell_type": "code",
   "execution_count": 143,
   "metadata": {
    "tags": []
   },
   "outputs": [],
   "source": [
    "inputs1 = Input(1754)\n",
    "inputs2 = Input(1754)"
   ]
  },
  {
   "cell_type": "code",
   "execution_count": 144,
   "metadata": {
    "tags": []
   },
   "outputs": [
    {
     "data": {
      "text/plain": [
       "<KerasTensor: shape=(None, 1754) dtype=float32 (created by layer 'input_13')>"
      ]
     },
     "execution_count": 144,
     "metadata": {},
     "output_type": "execute_result"
    }
   ],
   "source": [
    "inputs1"
   ]
  },
  {
   "cell_type": "code",
   "execution_count": 145,
   "metadata": {
    "tags": []
   },
   "outputs": [],
   "source": [
    "def create_couples(x_support,y_support,x_train,y_train):\n",
    "    x_train_left = []\n",
    "    x_train_right = []\n",
    "    y_train_set = []\n",
    "    for i in range(0,len(x_support)):\n",
    "        for j in range(0,len(x_train)):\n",
    "            x_train_left.append(x_support[i])\n",
    "            x_train_right.append(x_train[j])\n",
    "            if(y_support[i] == y_train[j]):\n",
    "                y_train_set.append(1)\n",
    "            else:\n",
    "                y_train_set.append(0)\n",
    "                    \n",
    "    return np.array(x_train_left),np.array(x_train_right),np.array(y_train_set)"
   ]
  },
  {
   "cell_type": "code",
   "execution_count": 146,
   "metadata": {
    "tags": []
   },
   "outputs": [],
   "source": [
    "x_train_left,x_train_right,y_train_set = create_couples(x_support,y_support,x_train,y_train)"
   ]
  },
  {
   "cell_type": "code",
   "execution_count": 147,
   "metadata": {
    "tags": []
   },
   "outputs": [
    {
     "data": {
      "text/plain": [
       "(1315, 1754)"
      ]
     },
     "execution_count": 147,
     "metadata": {},
     "output_type": "execute_result"
    }
   ],
   "source": [
    "x_train.shape"
   ]
  },
  {
   "cell_type": "code",
   "execution_count": 148,
   "metadata": {
    "tags": []
   },
   "outputs": [],
   "source": [
    "dnn_model=model"
   ]
  },
  {
   "cell_type": "code",
   "execution_count": 149,
   "metadata": {},
   "outputs": [
    {
     "data": {
      "text/plain": [
       "<keras.layers.core.dense.Dense at 0x7ff1006f95d0>"
      ]
     },
     "execution_count": 149,
     "metadata": {},
     "output_type": "execute_result"
    }
   ],
   "source": [
    "\n",
    "# freeze DNN model layers and remove final layer\n",
    "for layer in dnn_model.layers:\n",
    "    layer.trainable = False\n",
    "dnn_model.layers.pop()\n"
   ]
  },
  {
   "cell_type": "code",
   "execution_count": 163,
   "metadata": {
    "tags": []
   },
   "outputs": [],
   "source": [
    "\n",
    "# define left and right input layers\n",
    "left_input = Input(shape=input_shape, name='left_input')\n",
    "right_input = Input(shape=input_shape, name='right_input')\n",
    "\n",
    "# pass left and right input through shared model\n",
    "left_output = dnn_model(left_input)\n",
    "right_output = dnn_model(right_input)\n",
    "\n",
    "merged_output = Lambda(lambda x: K.sqrt(K.sum(K.square(x[0] - x[1]), axis=1, keepdims=True))) ([left_output, right_output])\n",
    "\n",
    "# define final output layer\n",
    "merged_output = Dense(320,activation = \"relu\")(merged_output)\n",
    "merged_output = BatchNormalization()(merged_output)\n",
    "merged_output = Dense(320,activation = \"relu\")(merged_output)\n",
    "merged_output = BatchNormalization()(merged_output)\n",
    "merged_output = Dense(320,activation = \"relu\")(merged_output)\n",
    "merged_output = BatchNormalization()(merged_output)\n",
    "final_output = Dense(1, activation='sigmoid')(merged_output)\n",
    "\n",
    "# define siamese model\n",
    "siamese_model = Model(inputs=[left_input, right_input], outputs=final_output)\n",
    "\n",
    "# compile siamese model\n",
    "siamese_model.compile(loss='binary_crossentropy', optimizer=\"adam\", metrics=[\"accuracy\",tf.keras.metrics.Precision(),tf.keras.metrics.Recall(),tf.keras.metrics.AUC()])\n"
   ]
  },
  {
   "cell_type": "code",
   "execution_count": 164,
   "metadata": {},
   "outputs": [],
   "source": [
    "epochs= 30"
   ]
  },
  {
   "cell_type": "code",
   "execution_count": 165,
   "metadata": {
    "scrolled": true,
    "tags": []
   },
   "outputs": [
    {
     "name": "stdout",
     "output_type": "stream",
     "text": [
      "Epoch 1/30\n",
      "263/263 [==============================] - 3s 6ms/step - loss: 0.0773 - accuracy: 0.9924 - precision_11: 0.9210 - recall_11: 0.9751 - auc_11: 0.9883 - val_loss: 0.0923 - val_accuracy: 0.9686 - val_precision_11: 0.0000e+00 - val_recall_11: 0.0000e+00 - val_auc_11: 0.9865\n",
      "Epoch 2/30\n",
      "263/263 [==============================] - 1s 5ms/step - loss: 0.0237 - accuracy: 0.9969 - precision_11: 0.9858 - recall_11: 0.9704 - auc_11: 0.9933 - val_loss: 0.0891 - val_accuracy: 0.9962 - val_precision_11: 0.9957 - val_recall_11: 0.8826 - val_auc_11: 0.9966\n",
      "Epoch 3/30\n",
      "263/263 [==============================] - 1s 5ms/step - loss: 0.0167 - accuracy: 0.9969 - precision_11: 0.9871 - recall_11: 0.9687 - auc_11: 0.9951 - val_loss: 0.0165 - val_accuracy: 0.9970 - val_precision_11: 0.9686 - val_recall_11: 0.9356 - val_auc_11: 0.9988\n",
      "Epoch 4/30\n",
      "263/263 [==============================] - 1s 5ms/step - loss: 0.0174 - accuracy: 0.9966 - precision_11: 0.9833 - recall_11: 0.9683 - auc_11: 0.9947 - val_loss: 3.2558 - val_accuracy: 0.0998 - val_precision_11: 0.0321 - val_recall_11: 0.9508 - val_auc_11: 0.9128\n",
      "Epoch 5/30\n",
      "263/263 [==============================] - 1s 5ms/step - loss: 0.0166 - accuracy: 0.9966 - precision_11: 0.9824 - recall_11: 0.9683 - auc_11: 0.9965 - val_loss: 0.0232 - val_accuracy: 0.9970 - val_precision_11: 0.9686 - val_recall_11: 0.9356 - val_auc_11: 0.9989\n",
      "Epoch 6/30\n",
      "263/263 [==============================] - 1s 5ms/step - loss: 0.0161 - accuracy: 0.9969 - precision_11: 0.9858 - recall_11: 0.9691 - auc_11: 0.9946 - val_loss: 0.0547 - val_accuracy: 0.9967 - val_precision_11: 0.9876 - val_recall_11: 0.9053 - val_auc_11: 0.9609\n",
      "Epoch 7/30\n",
      "263/263 [==============================] - 1s 5ms/step - loss: 0.0166 - accuracy: 0.9964 - precision_11: 0.9832 - recall_11: 0.9653 - auc_11: 0.9955 - val_loss: 0.0137 - val_accuracy: 0.9973 - val_precision_11: 0.9617 - val_recall_11: 0.9508 - val_auc_11: 0.9951\n",
      "Epoch 8/30\n",
      "263/263 [==============================] - 1s 6ms/step - loss: 0.0178 - accuracy: 0.9964 - precision_11: 0.9787 - recall_11: 0.9696 - auc_11: 0.9943 - val_loss: 24.7229 - val_accuracy: 0.0722 - val_precision_11: 0.0307 - val_recall_11: 0.9356 - val_auc_11: 0.0565\n",
      "Epoch 9/30\n",
      "263/263 [==============================] - 1s 6ms/step - loss: 0.0160 - accuracy: 0.9967 - precision_11: 0.9816 - recall_11: 0.9708 - auc_11: 0.9951 - val_loss: 39.3094 - val_accuracy: 0.0605 - val_precision_11: 0.0304 - val_recall_11: 0.9356 - val_auc_11: 0.0474\n",
      "Epoch 10/30\n",
      "263/263 [==============================] - 1s 5ms/step - loss: 0.0165 - accuracy: 0.9966 - precision_11: 0.9820 - recall_11: 0.9700 - auc_11: 0.9959 - val_loss: 15.2764 - val_accuracy: 0.0314 - val_precision_11: 0.0314 - val_recall_11: 1.0000 - val_auc_11: 0.4939\n",
      "Epoch 11/30\n",
      "263/263 [==============================] - 1s 5ms/step - loss: 0.0171 - accuracy: 0.9965 - precision_11: 0.9799 - recall_11: 0.9704 - auc_11: 0.9943 - val_loss: 8.5680 - val_accuracy: 0.0854 - val_precision_11: 0.0316 - val_recall_11: 0.9508 - val_auc_11: 0.4831\n",
      "Epoch 12/30\n",
      "263/263 [==============================] - 1s 5ms/step - loss: 0.0177 - accuracy: 0.9964 - precision_11: 0.9803 - recall_11: 0.9683 - auc_11: 0.9955 - val_loss: 0.0396 - val_accuracy: 0.9962 - val_precision_11: 0.9957 - val_recall_11: 0.8826 - val_auc_11: 0.9312\n",
      "Epoch 13/30\n",
      "263/263 [==============================] - 1s 5ms/step - loss: 0.0173 - accuracy: 0.9964 - precision_11: 0.9783 - recall_11: 0.9704 - auc_11: 0.9937 - val_loss: 0.0115 - val_accuracy: 0.9970 - val_precision_11: 0.9838 - val_recall_11: 0.9205 - val_auc_11: 0.9953\n",
      "Epoch 14/30\n",
      "263/263 [==============================] - 1s 5ms/step - loss: 0.0164 - accuracy: 0.9964 - precision_11: 0.9774 - recall_11: 0.9708 - auc_11: 0.9958 - val_loss: 47.6817 - val_accuracy: 0.0693 - val_precision_11: 0.0306 - val_recall_11: 0.9356 - val_auc_11: 0.4604\n",
      "Epoch 15/30\n",
      "263/263 [==============================] - 1s 5ms/step - loss: 0.0168 - accuracy: 0.9965 - precision_11: 0.9799 - recall_11: 0.9700 - auc_11: 0.9954 - val_loss: 67.4920 - val_accuracy: 0.0709 - val_precision_11: 0.0286 - val_recall_11: 0.8674 - val_auc_11: 0.0475\n",
      "Epoch 16/30\n",
      "263/263 [==============================] - 1s 5ms/step - loss: 0.0178 - accuracy: 0.9962 - precision_11: 0.9774 - recall_11: 0.9683 - auc_11: 0.9945 - val_loss: 64.2835 - val_accuracy: 0.0561 - val_precision_11: 0.0309 - val_recall_11: 0.9583 - val_auc_11: 0.4688\n",
      "Epoch 17/30\n",
      "263/263 [==============================] - 1s 5ms/step - loss: 0.0163 - accuracy: 0.9968 - precision_11: 0.9841 - recall_11: 0.9700 - auc_11: 0.9956 - val_loss: 123.2840 - val_accuracy: 0.0610 - val_precision_11: 0.0308 - val_recall_11: 0.9508 - val_auc_11: 0.4726\n",
      "Epoch 18/30\n",
      "263/263 [==============================] - 1s 5ms/step - loss: 0.0179 - accuracy: 0.9963 - precision_11: 0.9811 - recall_11: 0.9653 - auc_11: 0.9945 - val_loss: 81.1029 - val_accuracy: 0.0314 - val_precision_11: 0.0314 - val_recall_11: 1.0000 - val_auc_11: 0.4927\n",
      "Epoch 19/30\n",
      "263/263 [==============================] - 1s 5ms/step - loss: 0.0168 - accuracy: 0.9963 - precision_11: 0.9758 - recall_11: 0.9713 - auc_11: 0.9952 - val_loss: 8.5739 - val_accuracy: 0.0732 - val_precision_11: 0.0317 - val_recall_11: 0.9659 - val_auc_11: 0.4909\n",
      "Epoch 20/30\n",
      "263/263 [==============================] - 1s 5ms/step - loss: 0.0164 - accuracy: 0.9963 - precision_11: 0.9766 - recall_11: 0.9704 - auc_11: 0.9951 - val_loss: 0.0273 - val_accuracy: 0.9960 - val_precision_11: 0.9167 - val_recall_11: 0.9583 - val_auc_11: 0.9918\n",
      "Epoch 21/30\n",
      "263/263 [==============================] - 1s 5ms/step - loss: 0.0166 - accuracy: 0.9965 - precision_11: 0.9803 - recall_11: 0.9691 - auc_11: 0.9951 - val_loss: 18.1270 - val_accuracy: 0.0680 - val_precision_11: 0.0315 - val_recall_11: 0.9659 - val_auc_11: 0.4671\n",
      "Epoch 22/30\n",
      "263/263 [==============================] - 1s 5ms/step - loss: 0.0162 - accuracy: 0.9965 - precision_11: 0.9803 - recall_11: 0.9696 - auc_11: 0.9951 - val_loss: 0.0116 - val_accuracy: 0.9968 - val_precision_11: 0.9837 - val_recall_11: 0.9129 - val_auc_11: 0.9953\n",
      "Epoch 23/30\n",
      "263/263 [==============================] - 1s 5ms/step - loss: 0.0159 - accuracy: 0.9966 - precision_11: 0.9799 - recall_11: 0.9708 - auc_11: 0.9955 - val_loss: 12.1627 - val_accuracy: 0.0922 - val_precision_11: 0.0309 - val_recall_11: 0.9205 - val_auc_11: 0.4769\n",
      "Epoch 24/30\n",
      "263/263 [==============================] - 1s 6ms/step - loss: 0.0160 - accuracy: 0.9968 - precision_11: 0.9837 - recall_11: 0.9708 - auc_11: 0.9946 - val_loss: 0.0134 - val_accuracy: 0.9967 - val_precision_11: 0.9876 - val_recall_11: 0.9053 - val_auc_11: 0.9881\n",
      "Epoch 25/30\n",
      "263/263 [==============================] - 1s 5ms/step - loss: 0.0163 - accuracy: 0.9968 - precision_11: 0.9850 - recall_11: 0.9691 - auc_11: 0.9954 - val_loss: 136.4054 - val_accuracy: 0.0348 - val_precision_11: 0.0292 - val_recall_11: 0.9242 - val_auc_11: 0.0339\n",
      "Epoch 26/30\n",
      "263/263 [==============================] - 2s 6ms/step - loss: 0.0168 - accuracy: 0.9966 - precision_11: 0.9812 - recall_11: 0.9696 - auc_11: 0.9948 - val_loss: 4.0636 - val_accuracy: 0.0872 - val_precision_11: 0.0319 - val_recall_11: 0.9583 - val_auc_11: 0.9068\n",
      "Epoch 27/30\n",
      "263/263 [==============================] - 1s 5ms/step - loss: 0.0158 - accuracy: 0.9967 - precision_11: 0.9804 - recall_11: 0.9721 - auc_11: 0.9948 - val_loss: 0.0167 - val_accuracy: 0.9964 - val_precision_11: 0.9875 - val_recall_11: 0.8977 - val_auc_11: 0.9915\n",
      "Epoch 28/30\n",
      "263/263 [==============================] - 1s 5ms/step - loss: 0.0167 - accuracy: 0.9966 - precision_11: 0.9816 - recall_11: 0.9700 - auc_11: 0.9944 - val_loss: 0.0351 - val_accuracy: 0.9967 - val_precision_11: 0.9876 - val_recall_11: 0.9053 - val_auc_11: 0.9942\n",
      "Epoch 29/30\n",
      "263/263 [==============================] - 2s 6ms/step - loss: 0.0160 - accuracy: 0.9966 - precision_11: 0.9800 - recall_11: 0.9713 - auc_11: 0.9956 - val_loss: 13.6890 - val_accuracy: 0.0844 - val_precision_11: 0.0324 - val_recall_11: 0.9773 - val_auc_11: 0.4820\n",
      "Epoch 30/30\n",
      "263/263 [==============================] - 1s 5ms/step - loss: 0.0170 - accuracy: 0.9964 - precision_11: 0.9795 - recall_11: 0.9691 - auc_11: 0.9946 - val_loss: 485.0999 - val_accuracy: 0.0531 - val_precision_11: 0.0310 - val_recall_11: 0.9659 - val_auc_11: 0.4614\n"
     ]
    }
   ],
   "source": [
    "history_s = siamese_model.fit([x_train_left,x_train_right],y=y_train_set,batch_size=128, epochs=epochs,validation_split = 0.2)"
   ]
  },
  {
   "cell_type": "code",
   "execution_count": 153,
   "metadata": {},
   "outputs": [],
   "source": [
    "x_test_left,x_test_right,y_test_set = create_couples(x_support,y_support,x_test,y_test)"
   ]
  },
  {
   "cell_type": "code",
   "execution_count": 154,
   "metadata": {},
   "outputs": [
    {
     "name": "stdout",
     "output_type": "stream",
     "text": [
      "439/439 [==============================] - 1s 3ms/step - loss: 0.0671 - accuracy: 0.9862 - precision_9: 0.9212 - recall_9: 0.8519 - auc_9: 0.9764\n"
     ]
    }
   ],
   "source": [
    "(loss, \n",
    "accuracy, precision, recall,auc) = siamese_model.evaluate([x_test_left,x_test_right],y_test_set)"
   ]
  },
  {
   "cell_type": "code",
   "execution_count": 155,
   "metadata": {
    "tags": []
   },
   "outputs": [],
   "source": [
    "def which_cancer(x_support_set,y_support_set,sample,siamese_model):\n",
    "    max = None\n",
    "    cancer = None\n",
    "    for i in range(0,len(x_support_set)):\n",
    "        prediction = siamese_model.predict([x_support_set[i].reshape(1,-1),sample])\n",
    "        if(max == None):\n",
    "            max = prediction\n",
    "            cancer = y_support_set[i]\n",
    "        else:\n",
    "            if(max< prediction):\n",
    "                max = prediction\n",
    "                cancer = y_support_set[i]\n",
    "    return max,cancer"
   ]
  },
  {
   "cell_type": "code",
   "execution_count": 156,
   "metadata": {
    "tags": []
   },
   "outputs": [],
   "source": [
    "def eval_siamese_model(x_support,y_support,x_test,y_test,classes,siamese_model):\n",
    "    results = pd.DataFrame(columns=[\"Cancer\",\"Loss\",\"Accuracy\",\"Precision\",\"Recall\",\"AUC\",\"F1 Score\"])\n",
    "    for cancer in classes:\n",
    "        indices = np.where(y_test==cancer)\n",
    "        x_test_eval = x_test[indices]\n",
    "        y_test_eval = y_test[indices]\n",
    "        x_test_left,x_test_right,y_test_set = create_couples(x_support,y_support,x_test_eval,y_test_eval)\n",
    "        (loss, accuracy, precision, recall,auc) = siamese_model.evaluate([x_test_left,x_test_right],y_test_set)\n",
    "        f1_score = 2*((precision*recall)/(precision+recall+K.epsilon()))\n",
    "        new_row = {\"Cancer\": cancer, \"Loss\": loss, \"Accuracy\": accuracy, \"Precision\": precision, \"Recall\": recall, \"AUC\": auc, \"F1 Score\": f1_score}\n",
    "        results = pd.concat([results,pd.DataFrame.from_dict([new_row])])\n",
    "    return results"
   ]
  },
  {
   "cell_type": "code",
   "execution_count": 157,
   "metadata": {
    "tags": []
   },
   "outputs": [
    {
     "name": "stdout",
     "output_type": "stream",
     "text": [
      "77/77 [==============================] - 0s 3ms/step - loss: 0.0268 - accuracy: 0.9968 - precision_9: 0.9740 - recall_9: 0.9740 - auc_9: 0.9857\n",
      "59/59 [==============================] - 0s 3ms/step - loss: 0.0291 - accuracy: 0.9947 - precision_9: 0.9655 - recall_9: 0.9492 - auc_9: 0.9901     \n",
      "9/9 [==============================] - 0s 3ms/step - loss: 0.1886 - accuracy: 0.9583 - precision_9: 0.7143 - recall_9: 0.5556 - auc_9: 0.8874        \n",
      "5/5 [==============================] - 0s 3ms/step - loss: 0.3368 - accuracy: 0.9250 - precision_9: 0.3333 - recall_9: 0.2000 - auc_9: 0.7227\n",
      "16/16 [==============================] - 0s 3ms/step - loss: 0.0897 - accuracy: 0.9844 - precision_9: 0.9286 - recall_9: 0.8125 - auc_9: 0.9514        \n",
      "29/29 [==============================] - 0s 3ms/step - loss: 0.1578 - accuracy: 0.9569 - precision_9: 0.6957 - recall_9: 0.5517 - auc_9: 0.9224       \n",
      "89/89 [==============================] - 0s 3ms/step - loss: 0.0110 - accuracy: 0.9986 - precision_9: 0.9888 - recall_9: 0.9888 - auc_9: 0.9940        \n",
      "7/7 [==============================] - 0s 3ms/step - loss: 0.2260 - accuracy: 0.9643 - precision_9: 0.7143 - recall_9: 0.7143 - auc_9: 0.8997        \n",
      "51/51 [==============================] - 0s 3ms/step - loss: 0.0269 - accuracy: 0.9926 - precision_9: 0.9787 - recall_9: 0.9020 - auc_9: 0.9955       \n",
      "14/14 [==============================] - 0s 3ms/step - loss: 0.0687 - accuracy: 0.9821 - precision_9: 0.9167 - recall_9: 0.7857 - auc_9: 0.9842        \n",
      "21/21 [==============================] - 0s 2ms/step - loss: 0.2070 - accuracy: 0.9613 - precision_9: 0.7500 - recall_9: 0.5714 - auc_9: 0.8926        \n",
      "26/26 [==============================] - 0s 2ms/step - loss: 0.0431 - accuracy: 0.9880 - precision_9: 0.9565 - recall_9: 0.8462 - auc_9: 0.9933       \n",
      "8/8 [==============================] - 0s 2ms/step - loss: 0.0927 - accuracy: 0.9688 - precision_9: 0.8333 - recall_9: 0.6250 - auc_9: 0.9500        \n",
      "8/8 [==============================] - 0s 3ms/step - loss: 0.3223 - accuracy: 0.9531 - precision_9: 0.6667 - recall_9: 0.5000 - auc_9: 0.7826        \n",
      "11/11 [==============================] - 0s 3ms/step - loss: 0.2322 - accuracy: 0.9545 - precision_9: 0.6667 - recall_9: 0.5455 - auc_9: 0.8877        \n",
      "9/9 [==============================] - 0s 3ms/step - loss: 0.0033 - accuracy: 1.0000 - precision_9: 1.0000 - recall_9: 1.0000 - auc_9: 1.0000        \n"
     ]
    }
   ],
   "source": [
    "results = eval_siamese_model(x_support,y_support,x_test,y_test,classes,siamese_model)"
   ]
  },
  {
   "cell_type": "code",
   "execution_count": 158,
   "metadata": {
    "tags": []
   },
   "outputs": [
    {
     "data": {
      "text/html": [
       "<div>\n",
       "<style scoped>\n",
       "    .dataframe tbody tr th:only-of-type {\n",
       "        vertical-align: middle;\n",
       "    }\n",
       "\n",
       "    .dataframe tbody tr th {\n",
       "        vertical-align: top;\n",
       "    }\n",
       "\n",
       "    .dataframe thead th {\n",
       "        text-align: right;\n",
       "    }\n",
       "</style>\n",
       "<table border=\"1\" class=\"dataframe\">\n",
       "  <thead>\n",
       "    <tr style=\"text-align: right;\">\n",
       "      <th></th>\n",
       "      <th>Cancer</th>\n",
       "      <th>Loss</th>\n",
       "      <th>Accuracy</th>\n",
       "      <th>Precision</th>\n",
       "      <th>Recall</th>\n",
       "      <th>AUC</th>\n",
       "      <th>F1 Score</th>\n",
       "    </tr>\n",
       "  </thead>\n",
       "  <tbody>\n",
       "    <tr>\n",
       "      <th>0</th>\n",
       "      <td>Non-Small Cell Lung Cancer</td>\n",
       "      <td>0.026820</td>\n",
       "      <td>0.996753</td>\n",
       "      <td>0.974026</td>\n",
       "      <td>0.974026</td>\n",
       "      <td>0.985742</td>\n",
       "      <td>0.974026</td>\n",
       "    </tr>\n",
       "    <tr>\n",
       "      <th>0</th>\n",
       "      <td>Breast Cancer</td>\n",
       "      <td>0.029096</td>\n",
       "      <td>0.994703</td>\n",
       "      <td>0.965517</td>\n",
       "      <td>0.949153</td>\n",
       "      <td>0.990099</td>\n",
       "      <td>0.957265</td>\n",
       "    </tr>\n",
       "    <tr>\n",
       "      <th>0</th>\n",
       "      <td>Bladder Cancer</td>\n",
       "      <td>0.188638</td>\n",
       "      <td>0.958333</td>\n",
       "      <td>0.714286</td>\n",
       "      <td>0.555556</td>\n",
       "      <td>0.887449</td>\n",
       "      <td>0.625000</td>\n",
       "    </tr>\n",
       "    <tr>\n",
       "      <th>0</th>\n",
       "      <td>Head and Neck Cancer</td>\n",
       "      <td>0.336805</td>\n",
       "      <td>0.925000</td>\n",
       "      <td>0.333333</td>\n",
       "      <td>0.200000</td>\n",
       "      <td>0.722667</td>\n",
       "      <td>0.250000</td>\n",
       "    </tr>\n",
       "    <tr>\n",
       "      <th>0</th>\n",
       "      <td>Bone Cancer</td>\n",
       "      <td>0.089729</td>\n",
       "      <td>0.984375</td>\n",
       "      <td>0.928571</td>\n",
       "      <td>0.812500</td>\n",
       "      <td>0.951432</td>\n",
       "      <td>0.866667</td>\n",
       "    </tr>\n",
       "    <tr>\n",
       "      <th>0</th>\n",
       "      <td>Soft Tissue Sarcoma</td>\n",
       "      <td>0.157796</td>\n",
       "      <td>0.956897</td>\n",
       "      <td>0.695652</td>\n",
       "      <td>0.551724</td>\n",
       "      <td>0.922354</td>\n",
       "      <td>0.615385</td>\n",
       "    </tr>\n",
       "    <tr>\n",
       "      <th>0</th>\n",
       "      <td>Prostate Cancer</td>\n",
       "      <td>0.011039</td>\n",
       "      <td>0.998595</td>\n",
       "      <td>0.988764</td>\n",
       "      <td>0.988764</td>\n",
       "      <td>0.994008</td>\n",
       "      <td>0.988764</td>\n",
       "    </tr>\n",
       "    <tr>\n",
       "      <th>0</th>\n",
       "      <td>Ovarian Cancer</td>\n",
       "      <td>0.226018</td>\n",
       "      <td>0.964286</td>\n",
       "      <td>0.714286</td>\n",
       "      <td>0.714286</td>\n",
       "      <td>0.899660</td>\n",
       "      <td>0.714286</td>\n",
       "    </tr>\n",
       "    <tr>\n",
       "      <th>0</th>\n",
       "      <td>Glioma</td>\n",
       "      <td>0.026884</td>\n",
       "      <td>0.992647</td>\n",
       "      <td>0.978723</td>\n",
       "      <td>0.901961</td>\n",
       "      <td>0.995515</td>\n",
       "      <td>0.938775</td>\n",
       "    </tr>\n",
       "    <tr>\n",
       "      <th>0</th>\n",
       "      <td>Esophagogastric Cancer</td>\n",
       "      <td>0.068744</td>\n",
       "      <td>0.982143</td>\n",
       "      <td>0.916667</td>\n",
       "      <td>0.785714</td>\n",
       "      <td>0.984184</td>\n",
       "      <td>0.846154</td>\n",
       "    </tr>\n",
       "    <tr>\n",
       "      <th>0</th>\n",
       "      <td>Hepatobiliary Cancer</td>\n",
       "      <td>0.207005</td>\n",
       "      <td>0.961310</td>\n",
       "      <td>0.750000</td>\n",
       "      <td>0.571429</td>\n",
       "      <td>0.892555</td>\n",
       "      <td>0.648649</td>\n",
       "    </tr>\n",
       "    <tr>\n",
       "      <th>0</th>\n",
       "      <td>Colorectal Cancer</td>\n",
       "      <td>0.043128</td>\n",
       "      <td>0.987981</td>\n",
       "      <td>0.956522</td>\n",
       "      <td>0.846154</td>\n",
       "      <td>0.993343</td>\n",
       "      <td>0.897959</td>\n",
       "    </tr>\n",
       "    <tr>\n",
       "      <th>0</th>\n",
       "      <td>Cancer of Unknown Primary</td>\n",
       "      <td>0.092699</td>\n",
       "      <td>0.968750</td>\n",
       "      <td>0.833333</td>\n",
       "      <td>0.625000</td>\n",
       "      <td>0.950000</td>\n",
       "      <td>0.714286</td>\n",
       "    </tr>\n",
       "    <tr>\n",
       "      <th>0</th>\n",
       "      <td>Endometrial Cancer</td>\n",
       "      <td>0.322318</td>\n",
       "      <td>0.953125</td>\n",
       "      <td>0.666667</td>\n",
       "      <td>0.500000</td>\n",
       "      <td>0.782552</td>\n",
       "      <td>0.571429</td>\n",
       "    </tr>\n",
       "    <tr>\n",
       "      <th>0</th>\n",
       "      <td>Melanoma</td>\n",
       "      <td>0.232219</td>\n",
       "      <td>0.954545</td>\n",
       "      <td>0.666667</td>\n",
       "      <td>0.545455</td>\n",
       "      <td>0.887741</td>\n",
       "      <td>0.600000</td>\n",
       "    </tr>\n",
       "    <tr>\n",
       "      <th>0</th>\n",
       "      <td>Pancreatic Cancer</td>\n",
       "      <td>0.003257</td>\n",
       "      <td>1.000000</td>\n",
       "      <td>1.000000</td>\n",
       "      <td>1.000000</td>\n",
       "      <td>1.000000</td>\n",
       "      <td>1.000000</td>\n",
       "    </tr>\n",
       "  </tbody>\n",
       "</table>\n",
       "</div>"
      ],
      "text/plain": [
       "                       Cancer      Loss  Accuracy  Precision    Recall  \\\n",
       "0  Non-Small Cell Lung Cancer  0.026820  0.996753   0.974026  0.974026   \n",
       "0               Breast Cancer  0.029096  0.994703   0.965517  0.949153   \n",
       "0              Bladder Cancer  0.188638  0.958333   0.714286  0.555556   \n",
       "0        Head and Neck Cancer  0.336805  0.925000   0.333333  0.200000   \n",
       "0                 Bone Cancer  0.089729  0.984375   0.928571  0.812500   \n",
       "0         Soft Tissue Sarcoma  0.157796  0.956897   0.695652  0.551724   \n",
       "0             Prostate Cancer  0.011039  0.998595   0.988764  0.988764   \n",
       "0              Ovarian Cancer  0.226018  0.964286   0.714286  0.714286   \n",
       "0                      Glioma  0.026884  0.992647   0.978723  0.901961   \n",
       "0      Esophagogastric Cancer  0.068744  0.982143   0.916667  0.785714   \n",
       "0        Hepatobiliary Cancer  0.207005  0.961310   0.750000  0.571429   \n",
       "0           Colorectal Cancer  0.043128  0.987981   0.956522  0.846154   \n",
       "0   Cancer of Unknown Primary  0.092699  0.968750   0.833333  0.625000   \n",
       "0          Endometrial Cancer  0.322318  0.953125   0.666667  0.500000   \n",
       "0                    Melanoma  0.232219  0.954545   0.666667  0.545455   \n",
       "0           Pancreatic Cancer  0.003257  1.000000   1.000000  1.000000   \n",
       "\n",
       "        AUC  F1 Score  \n",
       "0  0.985742  0.974026  \n",
       "0  0.990099  0.957265  \n",
       "0  0.887449  0.625000  \n",
       "0  0.722667  0.250000  \n",
       "0  0.951432  0.866667  \n",
       "0  0.922354  0.615385  \n",
       "0  0.994008  0.988764  \n",
       "0  0.899660  0.714286  \n",
       "0  0.995515  0.938775  \n",
       "0  0.984184  0.846154  \n",
       "0  0.892555  0.648649  \n",
       "0  0.993343  0.897959  \n",
       "0  0.950000  0.714286  \n",
       "0  0.782552  0.571429  \n",
       "0  0.887741  0.600000  \n",
       "0  1.000000  1.000000  "
      ]
     },
     "execution_count": 158,
     "metadata": {},
     "output_type": "execute_result"
    }
   ],
   "source": [
    "results"
   ]
  },
  {
   "cell_type": "code",
   "execution_count": 167,
   "metadata": {
    "tags": []
   },
   "outputs": [
    {
     "name": "stdout",
     "output_type": "stream",
     "text": [
      "INFO:tensorflow:Assets written to: dnn-model/assets\n"
     ]
    }
   ],
   "source": [
    "dnn_model.save(\"dnn-model\")"
   ]
  },
  {
   "cell_type": "code",
   "execution_count": 168,
   "metadata": {
    "tags": []
   },
   "outputs": [
    {
     "name": "stdout",
     "output_type": "stream",
     "text": [
      "INFO:tensorflow:Assets written to: siamese-model/assets\n"
     ]
    }
   ],
   "source": [
    "siamese_model.save(\"siamese-model\")"
   ]
  }
 ],
 "metadata": {
  "kernelspec": {
   "display_name": "Python 3 (ipykernel)",
   "language": "python",
   "name": "python3"
  },
  "language_info": {
   "codemirror_mode": {
    "name": "ipython",
    "version": 3
   },
   "file_extension": ".py",
   "mimetype": "text/x-python",
   "name": "python",
   "nbconvert_exporter": "python",
   "pygments_lexer": "ipython3",
   "version": "3.10.9"
  }
 },
 "nbformat": 4,
 "nbformat_minor": 4
}
